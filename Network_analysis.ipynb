{
 "cells": [
  {
   "cell_type": "markdown",
   "metadata": {
    "slideshow": {
     "slide_type": "slide"
    }
   },
   "source": [
    "# Introduction to graph analysis with networkx"
   ]
  },
  {
   "cell_type": "markdown",
   "metadata": {
    "slideshow": {
     "slide_type": "slide"
    }
   },
   "source": [
    "## Graphs are everywhere"
   ]
  },
  {
   "cell_type": "markdown",
   "metadata": {
    "slideshow": {
     "slide_type": "fragment"
    }
   },
   "source": [
    "![Routing graph](img/17_node_mesh_network.png)\n"
   ]
  },
  {
   "cell_type": "markdown",
   "metadata": {
    "slideshow": {
     "slide_type": "subslide"
    }
   },
   "source": [
    "![Family tree](img/Familia_Curie.png)"
   ]
  },
  {
   "cell_type": "markdown",
   "metadata": {
    "ExecuteTime": {
     "end_time": "2019-06-03T21:24:10.419097Z",
     "start_time": "2019-06-03T21:24:09.812037Z"
    },
    "slideshow": {
     "slide_type": "slide"
    }
   },
   "source": [
    "![Social network](img/social_network.png)\n"
   ]
  },
  {
   "cell_type": "markdown",
   "metadata": {
    "slideshow": {
     "slide_type": "slide"
    }
   },
   "source": [
    "<img src=\"img/Semantic_Net.svg\" alt=\"Semantic graph\" style=\"height: 700px;\"/>"
   ]
  },
  {
   "cell_type": "markdown",
   "metadata": {
    "slideshow": {
     "slide_type": "slide"
    }
   },
   "source": [
    "## What are graphs?"
   ]
  },
  {
   "cell_type": "markdown",
   "metadata": {
    "slideshow": {
     "slide_type": "slide"
    }
   },
   "source": [
    "### Definition\n",
    "- A graph  is a pair G = (V, E), where V is a set whose elements are called vertices (singular: vertex), and E is a set of two-sets (set with two distinct elements) of vertices, whose elements are called edges (sometimes links or lines)\n",
    "- A directed graph or digraph is a graph in which edges have orientations\n",
    "- A weighted graph or a network is a graph in which a number (the weight) is assigned to each edge"
   ]
  },
  {
   "cell_type": "markdown",
   "metadata": {},
   "source": [
    "### Further terms\n",
    "- Centrality: identify the most important vertices within a graph\n",
    "- Component: Is a subgraph in which any two vertices are connected to each other by paths in an undirected graph\n",
    "- Complete graph: Every node is connected to each other node\n"
   ]
  },
  {
   "cell_type": "markdown",
   "metadata": {},
   "source": [
    "## Preparation"
   ]
  },
  {
   "cell_type": "code",
   "execution_count": null,
   "metadata": {
    "ExecuteTime": {
     "end_time": "2019-06-17T23:05:54.427647Z",
     "start_time": "2019-06-17T23:05:53.813465Z"
    },
    "hide_input": false
   },
   "outputs": [],
   "source": [
    "import pandas as pd\n",
    "import networkx as nx\n",
    "import matplotlib.pyplot as plt\n",
    "import numpy as np"
   ]
  },
  {
   "cell_type": "code",
   "execution_count": null,
   "metadata": {
    "ExecuteTime": {
     "end_time": "2019-06-17T23:05:54.433059Z",
     "start_time": "2019-06-17T23:05:54.429401Z"
    }
   },
   "outputs": [],
   "source": [
    "%matplotlib inline"
   ]
  },
  {
   "cell_type": "code",
   "execution_count": null,
   "metadata": {
    "ExecuteTime": {
     "end_time": "2019-06-17T23:05:54.454023Z",
     "start_time": "2019-06-17T23:05:54.434797Z"
    }
   },
   "outputs": [],
   "source": [
    "def get_node_size(value_dict):\n",
    "    value_array = np.array(list(value_dict.values()))\n",
    "    value_range = value_array.max() - value_array.min()\n",
    "    node_size = (2 * (value_array - value_array.min())/value_range + 1) * 300\n",
    "    return node_size.tolist()"
   ]
  },
  {
   "cell_type": "markdown",
   "metadata": {
    "slideshow": {
     "slide_type": "slide"
    }
   },
   "source": [
    "## networkx package structure"
   ]
  },
  {
   "cell_type": "markdown",
   "metadata": {
    "slideshow": {
     "slide_type": "fragment"
    }
   },
   "source": [
    "- **networkx.{Graph, DiGraph, MultiGraph, MultiDiGraph}**: Basic classes for Graphs\n",
    "- **networkx.algorithms.\\***: Functions to evaluate and analysing on a graph structure\n",
    "- **networkx.classes.function.\\***: Get graph properties via function calls\n",
    "- **networkx.generator.\\***: Generate specific types of graphs or random graphs, some existing datasets\n",
    "- **networkx.linalg.\\***: Calculate some derived matrix properties of graph\n",
    "- **networkx.convert.\\***: Conversion from/to different python data types\n",
    "- **networkx.drawing.\\***: (Basic) layouting and plotting functions"
   ]
  },
  {
   "cell_type": "markdown",
   "metadata": {
    "heading_collapsed": true,
    "hide_input": true,
    "slideshow": {
     "slide_type": "slide"
    }
   },
   "source": [
    "## Calling package functions\n",
    "Almost every function can be used by applying: \n",
    "```\n",
    "nx.function_name(G, additional_arguments)\n",
    "```\n",
    "where G is the Graph you are trying to analyse"
   ]
  },
  {
   "cell_type": "markdown",
   "metadata": {
    "slideshow": {
     "slide_type": "slide"
    }
   },
   "source": [
    "## Defining graphs in networkx"
   ]
  },
  {
   "cell_type": "markdown",
   "metadata": {},
   "source": [
    "### Undirected"
   ]
  },
  {
   "cell_type": "code",
   "execution_count": null,
   "metadata": {
    "ExecuteTime": {
     "end_time": "2019-06-17T23:05:54.472276Z",
     "start_time": "2019-06-17T23:05:54.457072Z"
    }
   },
   "outputs": [],
   "source": [
    "G = nx.Graph() \n",
    "\n",
    "# Add a node\n",
    "G.add_node(1) \n",
    "G.add_nodes_from([2,3]) # You can also add a list of nodes by passing a list argument"
   ]
  },
  {
   "cell_type": "code",
   "execution_count": null,
   "metadata": {
    "ExecuteTime": {
     "end_time": "2019-06-17T23:05:54.699277Z",
     "start_time": "2019-06-17T23:05:54.475048Z"
    }
   },
   "outputs": [],
   "source": [
    "plt.figure(figsize=(16,12))\n",
    "nx.draw_networkx(G, with_labels=True, arrowsize=30, node_size=1000, width=3)"
   ]
  },
  {
   "cell_type": "code",
   "execution_count": null,
   "metadata": {
    "ExecuteTime": {
     "end_time": "2019-06-17T23:05:54.704196Z",
     "start_time": "2019-06-17T23:05:54.700858Z"
    }
   },
   "outputs": [],
   "source": [
    "# Add edges \n",
    "G.add_edge(1,2)\n",
    "\n",
    "e = (2,3)\n",
    "G.add_edge(*e) # * unpacks the tuple\n",
    "G.add_edges_from([(1,2), (1,3)]) # Just like nodes we can add edges from a list"
   ]
  },
  {
   "cell_type": "code",
   "execution_count": null,
   "metadata": {
    "ExecuteTime": {
     "end_time": "2019-06-17T23:05:54.899953Z",
     "start_time": "2019-06-17T23:05:54.705746Z"
    }
   },
   "outputs": [],
   "source": [
    "plt.figure(figsize=(16,12))\n",
    "nx.draw_networkx(G, with_labels=True, arrowsize=30, node_size=1000, width=3)"
   ]
  },
  {
   "cell_type": "markdown",
   "metadata": {},
   "source": [
    "### Directed"
   ]
  },
  {
   "cell_type": "code",
   "execution_count": null,
   "metadata": {
    "ExecuteTime": {
     "end_time": "2019-06-17T23:05:54.905866Z",
     "start_time": "2019-06-17T23:05:54.902151Z"
    }
   },
   "outputs": [],
   "source": [
    "G = nx.DiGraph()\n",
    "\n",
    "# Defining nodes and edges is the same as in the Graph example:\n",
    "G.add_nodes_from([1, 2,3])\n",
    "\n",
    "G.add_edges_from([(1,2), (1,3), (2,3)])"
   ]
  },
  {
   "cell_type": "code",
   "execution_count": null,
   "metadata": {
    "ExecuteTime": {
     "end_time": "2019-06-17T23:05:55.134277Z",
     "start_time": "2019-06-17T23:05:54.912288Z"
    }
   },
   "outputs": [],
   "source": [
    "plt.figure(figsize=(16,12))\n",
    "nx.draw_networkx(G, with_labels=True, arrowsize=30, node_size=1000, width=3)"
   ]
  },
  {
   "cell_type": "markdown",
   "metadata": {},
   "source": [
    "### With weights"
   ]
  },
  {
   "cell_type": "code",
   "execution_count": null,
   "metadata": {
    "ExecuteTime": {
     "end_time": "2019-06-17T23:05:55.140176Z",
     "start_time": "2019-06-17T23:05:55.136056Z"
    }
   },
   "outputs": [],
   "source": [
    "G = nx.Graph()\n",
    "G.add_nodes_from([1, 2, 3, 4])\n",
    "G.add_weighted_edges_from([(1, 4, 5.), (2, 3, 0.5), (1, 2, 1.), (3, 4, 3.)])"
   ]
  },
  {
   "cell_type": "code",
   "execution_count": null,
   "metadata": {
    "ExecuteTime": {
     "end_time": "2019-06-17T23:05:55.161480Z",
     "start_time": "2019-06-17T23:05:55.142238Z"
    }
   },
   "outputs": [],
   "source": [
    "nx.attr_matrix(G, edge_attr='weight')"
   ]
  },
  {
   "cell_type": "code",
   "execution_count": null,
   "metadata": {
    "ExecuteTime": {
     "end_time": "2019-06-17T23:05:55.179729Z",
     "start_time": "2019-06-17T23:05:55.164183Z"
    }
   },
   "outputs": [],
   "source": [
    "labels = nx.get_edge_attributes(G, 'weight')"
   ]
  },
  {
   "cell_type": "code",
   "execution_count": null,
   "metadata": {
    "ExecuteTime": {
     "end_time": "2019-06-17T23:05:55.417780Z",
     "start_time": "2019-06-17T23:05:55.182972Z"
    }
   },
   "outputs": [],
   "source": [
    "pos = nx.spring_layout(G)\n",
    "plt.figure(figsize=(16,12)) \n",
    "nx.draw_networkx_nodes(G, pos, node_size=600)\n",
    "nx.draw_networkx_edges(G, pos, width=list(labels.values()))\n",
    "nx.draw_networkx_labels(G, pos);\n",
    "nx.draw_networkx_edge_labels(G, pos, font_size=20);"
   ]
  },
  {
   "cell_type": "markdown",
   "metadata": {},
   "source": [
    "### Accessing graph properties"
   ]
  },
  {
   "cell_type": "code",
   "execution_count": null,
   "metadata": {
    "ExecuteTime": {
     "end_time": "2019-06-17T23:05:55.423832Z",
     "start_time": "2019-06-17T23:05:55.419610Z"
    }
   },
   "outputs": [],
   "source": [
    "G.nodes()"
   ]
  },
  {
   "cell_type": "code",
   "execution_count": null,
   "metadata": {
    "ExecuteTime": {
     "end_time": "2019-06-17T23:05:55.446361Z",
     "start_time": "2019-06-17T23:05:55.427285Z"
    }
   },
   "outputs": [],
   "source": [
    "G.edges()"
   ]
  },
  {
   "cell_type": "markdown",
   "metadata": {},
   "source": [
    "## Creating a graph with the conversion functions"
   ]
  },
  {
   "cell_type": "code",
   "execution_count": null,
   "metadata": {
    "ExecuteTime": {
     "end_time": "2019-06-17T23:05:55.476802Z",
     "start_time": "2019-06-17T23:05:55.449657Z"
    }
   },
   "outputs": [],
   "source": [
    "edges = pd.read_csv('data/out.moreno_innovation_innovation', sep=' ', names=['from_node', 'to_node'], skiprows=2)\n",
    "edges.head()"
   ]
  },
  {
   "cell_type": "code",
   "execution_count": null,
   "metadata": {
    "ExecuteTime": {
     "end_time": "2019-06-17T23:05:55.490341Z",
     "start_time": "2019-06-17T23:05:55.478445Z"
    }
   },
   "outputs": [],
   "source": [
    "digraph = nx.from_pandas_edgelist(edges,'from_node', 'to_node', create_using=nx.DiGraph)"
   ]
  },
  {
   "cell_type": "code",
   "execution_count": null,
   "metadata": {
    "ExecuteTime": {
     "end_time": "2019-06-17T23:05:55.741279Z",
     "start_time": "2019-06-17T23:05:55.492842Z"
    }
   },
   "outputs": [],
   "source": [
    "plt.figure(figsize=(16,9))\n",
    "plt.imshow((nx.adjacency_matrix(digraph).todense()), aspect=0.6);\n",
    "plt.tick_params(labelsize=20)"
   ]
  },
  {
   "cell_type": "code",
   "execution_count": null,
   "metadata": {
    "ExecuteTime": {
     "end_time": "2019-06-17T23:06:02.700445Z",
     "start_time": "2019-06-17T23:05:55.742977Z"
    }
   },
   "outputs": [],
   "source": [
    "plt.figure(figsize=(16,12)) \n",
    "nx.draw_networkx(digraph, with_labels=True)"
   ]
  },
  {
   "cell_type": "markdown",
   "metadata": {},
   "source": [
    "## Random Graphs"
   ]
  },
  {
   "cell_type": "markdown",
   "metadata": {},
   "source": [
    "### Erdos-Renyi networks\n",
    "Every edge has constant probabilty $p$"
   ]
  },
  {
   "cell_type": "code",
   "execution_count": null,
   "metadata": {
    "ExecuteTime": {
     "end_time": "2019-06-17T23:22:26.536886Z",
     "start_time": "2019-06-17T23:22:26.530493Z"
    }
   },
   "outputs": [],
   "source": [
    "erdos_renyi = nx.random_graphs.erdos_renyi_graph(50, 0.0784)"
   ]
  },
  {
   "cell_type": "code",
   "execution_count": null,
   "metadata": {
    "ExecuteTime": {
     "end_time": "2019-06-17T23:22:27.286639Z",
     "start_time": "2019-06-17T23:22:26.938404Z"
    }
   },
   "outputs": [],
   "source": [
    "plt.figure(figsize=(16,12)) \n",
    "nx.draw_networkx(erdos_renyi, with_labels=True, node_size=600, width=2)"
   ]
  },
  {
   "cell_type": "markdown",
   "metadata": {},
   "source": [
    "#### Effect of growing n with constant p"
   ]
  },
  {
   "cell_type": "code",
   "execution_count": null,
   "metadata": {
    "ExecuteTime": {
     "end_time": "2019-06-17T23:06:35.310550Z",
     "start_time": "2019-06-17T23:06:34.313209Z"
    }
   },
   "outputs": [],
   "source": [
    "fig, axes = plt.subplots(2, 2, figsize=(20, 18))\n",
    "nx.draw_networkx(nx.random_graphs.erdos_renyi_graph(10, 0.1), with_labels=True, node_size=400, width=2, ax=axes[0,0])\n",
    "nx.draw_networkx(nx.random_graphs.erdos_renyi_graph(25, 0.1), with_labels=True, node_size=400, width=2, ax=axes[0,1])\n",
    "nx.draw_networkx(nx.random_graphs.erdos_renyi_graph(50, 0.1), with_labels=True, node_size=400, width=2, ax=axes[1,0])\n",
    "nx.draw_networkx(nx.random_graphs.erdos_renyi_graph(100, 0.1), with_labels=True, node_size=400, width=2, ax=axes[1,1])\n",
    "[[axes[i,j].set_xticks([]) for i in range(2) for j in range(2)]];\n",
    "[[axes[i,j].set_yticks([]) for i in range(2) for j in range(2)]];"
   ]
  },
  {
   "cell_type": "markdown",
   "metadata": {},
   "source": [
    "### $\\log(n)/n$ phase transition"
   ]
  },
  {
   "cell_type": "code",
   "execution_count": null,
   "metadata": {
    "ExecuteTime": {
     "end_time": "2019-06-17T23:06:35.315825Z",
     "start_time": "2019-06-17T23:06:35.312345Z"
    }
   },
   "outputs": [],
   "source": [
    "p = np.log(200)/200\n",
    "p"
   ]
  },
  {
   "cell_type": "code",
   "execution_count": null,
   "metadata": {
    "ExecuteTime": {
     "end_time": "2019-06-17T23:06:57.349496Z",
     "start_time": "2019-06-17T23:06:35.317371Z"
    }
   },
   "outputs": [],
   "source": [
    "# Add plot increasing edge prob multiple trials amount one component vs more than one\n",
    "probs = np.arange(0.01, 0.05001, 0.0025)\n",
    "has_one_component = [np.mean([nx.number_connected_components(nx.random_graphs.erdos_renyi_graph(200, p)) < 2 for i in range(200)]) for p in probs]"
   ]
  },
  {
   "cell_type": "code",
   "execution_count": null,
   "metadata": {
    "ExecuteTime": {
     "end_time": "2019-06-17T23:06:57.594882Z",
     "start_time": "2019-06-17T23:06:57.352190Z"
    }
   },
   "outputs": [],
   "source": [
    "plt.figure(figsize=(16, 12))\n",
    "plt.plot(probs, has_one_component, lw=4)\n",
    "plt.xlabel('Edge probability', fontsize=25)\n",
    "plt.ylabel('Frequency of one component', fontsize=25)\n",
    "plt.tick_params(labelsize=20)\n",
    "plt.axvline(x=p,linewidth=4, color='r')\n",
    "plt.show()"
   ]
  },
  {
   "cell_type": "markdown",
   "metadata": {},
   "source": [
    "### Preferential attachment  (Barabási–Albert)\n",
    "Edge probability is proportional to node degree"
   ]
  },
  {
   "cell_type": "code",
   "execution_count": null,
   "metadata": {
    "ExecuteTime": {
     "end_time": "2019-06-17T23:21:32.869077Z",
     "start_time": "2019-06-17T23:21:32.861641Z"
    }
   },
   "outputs": [],
   "source": [
    "bara_albert = nx.barabasi_albert_graph(50, 2)"
   ]
  },
  {
   "cell_type": "code",
   "execution_count": null,
   "metadata": {
    "ExecuteTime": {
     "end_time": "2019-06-17T23:21:34.106775Z",
     "start_time": "2019-06-17T23:21:33.748864Z"
    }
   },
   "outputs": [],
   "source": [
    "plt.figure(figsize=(16,12)) \n",
    "nx.draw_networkx(bara_albert, with_labels=True, node_size=600, width=2, node_color=bara_albert.nodes())"
   ]
  },
  {
   "cell_type": "markdown",
   "metadata": {},
   "source": [
    "## Graph analysis"
   ]
  },
  {
   "cell_type": "code",
   "execution_count": null,
   "metadata": {
    "ExecuteTime": {
     "end_time": "2019-06-17T23:06:57.969144Z",
     "start_time": "2019-06-17T23:06:57.948134Z"
    }
   },
   "outputs": [],
   "source": [
    "positions = nx.spring_layout(bara_albert)"
   ]
  },
  {
   "cell_type": "markdown",
   "metadata": {},
   "source": [
    "### Edge density\n",
    "Number of edges in the graph compared to number of edges in complete graph"
   ]
  },
  {
   "cell_type": "code",
   "execution_count": null,
   "metadata": {
    "ExecuteTime": {
     "end_time": "2019-06-17T23:06:57.983063Z",
     "start_time": "2019-06-17T23:06:57.971652Z"
    }
   },
   "outputs": [],
   "source": [
    "nx.density(bara_albert)"
   ]
  },
  {
   "cell_type": "code",
   "execution_count": null,
   "metadata": {
    "ExecuteTime": {
     "end_time": "2019-06-17T23:06:58.006238Z",
     "start_time": "2019-06-17T23:06:57.984664Z"
    }
   },
   "outputs": [],
   "source": [
    "nx.density(erdos_renyi)"
   ]
  },
  {
   "cell_type": "markdown",
   "metadata": {},
   "source": [
    "### Dijkstra pathes\n",
    "Shortest path from one vertex to another vertex"
   ]
  },
  {
   "cell_type": "code",
   "execution_count": null,
   "metadata": {
    "ExecuteTime": {
     "end_time": "2019-06-17T23:08:43.115482Z",
     "start_time": "2019-06-17T23:08:43.108493Z"
    }
   },
   "outputs": [],
   "source": [
    "dij_path = nx.dijkstra_path(bara_albert, source=49, target=20)"
   ]
  },
  {
   "cell_type": "code",
   "execution_count": null,
   "metadata": {
    "ExecuteTime": {
     "end_time": "2019-06-17T23:08:43.965191Z",
     "start_time": "2019-06-17T23:08:43.957601Z"
    }
   },
   "outputs": [],
   "source": [
    "dij_path"
   ]
  },
  {
   "cell_type": "code",
   "execution_count": null,
   "metadata": {
    "ExecuteTime": {
     "end_time": "2019-06-17T23:08:45.111985Z",
     "start_time": "2019-06-17T23:08:44.683193Z"
    }
   },
   "outputs": [],
   "source": [
    "colors = [0]*50\n",
    "for i in dij_path:\n",
    "    colors[i]=1\n",
    "plt.figure(figsize=(16,12))\n",
    "nx.draw_networkx(bara_albert, positions, with_labels=True, node_size=600, width=2, node_color=colors)"
   ]
  },
  {
   "cell_type": "markdown",
   "metadata": {},
   "source": [
    "### Average shortest path length\n",
    "Average length of all shortest pathes"
   ]
  },
  {
   "cell_type": "code",
   "execution_count": null,
   "metadata": {
    "ExecuteTime": {
     "end_time": "2019-06-17T23:06:58.372663Z",
     "start_time": "2019-06-17T23:06:58.357973Z"
    }
   },
   "outputs": [],
   "source": [
    "nx.average_shortest_path_length(bara_albert)"
   ]
  },
  {
   "cell_type": "code",
   "execution_count": null,
   "metadata": {
    "ExecuteTime": {
     "end_time": "2019-06-17T23:06:58.406594Z",
     "start_time": "2019-06-17T23:06:58.376588Z"
    }
   },
   "outputs": [],
   "source": [
    "nx.average_shortest_path_length(erdos_renyi)"
   ]
  },
  {
   "cell_type": "markdown",
   "metadata": {},
   "source": [
    "### Node degree"
   ]
  },
  {
   "cell_type": "code",
   "execution_count": null,
   "metadata": {
    "ExecuteTime": {
     "end_time": "2019-06-17T23:06:58.422402Z",
     "start_time": "2019-06-17T23:06:58.408763Z"
    }
   },
   "outputs": [],
   "source": [
    "node_degree = nx.degree_centrality(bara_albert)"
   ]
  },
  {
   "cell_type": "code",
   "execution_count": null,
   "metadata": {
    "ExecuteTime": {
     "end_time": "2019-06-17T23:06:58.775174Z",
     "start_time": "2019-06-17T23:06:58.424636Z"
    }
   },
   "outputs": [],
   "source": [
    "plt.figure(figsize=(16,12))\n",
    "nx.draw_networkx(bara_albert, positions, with_labels=True, arrowsize=30, node_size=get_node_size(node_degree), \n",
    "                 node_color=get_node_size(node_degree))"
   ]
  },
  {
   "cell_type": "markdown",
   "metadata": {},
   "source": [
    "### Degree histogramm"
   ]
  },
  {
   "cell_type": "code",
   "execution_count": null,
   "metadata": {
    "ExecuteTime": {
     "end_time": "2019-06-17T23:27:07.297007Z",
     "start_time": "2019-06-17T23:27:07.253830Z"
    }
   },
   "outputs": [],
   "source": [
    "degrees_bara_albert = nx.degree_histogram(nx.barabasi_albert_graph(500, 2))\n",
    "degrees_erdos_renyi = nx.degree_histogram(nx.random_graphs.erdos_renyi_graph(500, 996./(250.*499.)))"
   ]
  },
  {
   "cell_type": "code",
   "execution_count": null,
   "metadata": {
    "ExecuteTime": {
     "end_time": "2019-06-17T23:27:09.127930Z",
     "start_time": "2019-06-17T23:27:08.885834Z"
    }
   },
   "outputs": [],
   "source": [
    "plt.figure(figsize=(16, 12))\n",
    "plt.plot(list(range(len(degrees_bara_albert))), np.array(degrees_bara_albert)/len(bara_albert.nodes), lw=4)\n",
    "plt.plot(list(range(len(degrees_erdos_renyi))), np.array(degrees_erdos_renyi)/len(erdos_renyi.nodes), lw=4)\n",
    "plt.xlabel('Degree', fontsize=25)\n",
    "plt.ylabel('Degree frequency', fontsize=25)\n",
    "plt.tick_params(labelsize=20)\n",
    "plt.legend(['Barabasi-Albert', 'Erdos-Renyi'])\n",
    "plt.show()"
   ]
  },
  {
   "cell_type": "markdown",
   "metadata": {},
   "source": [
    "### Closeness centrality\n",
    "Inverse average distance to all other nodes in the graph"
   ]
  },
  {
   "cell_type": "code",
   "execution_count": null,
   "metadata": {
    "ExecuteTime": {
     "end_time": "2019-06-17T23:06:59.016034Z",
     "start_time": "2019-06-17T23:06:59.000684Z"
    }
   },
   "outputs": [],
   "source": [
    "closeness = nx.closeness_centrality(bara_albert)"
   ]
  },
  {
   "cell_type": "code",
   "execution_count": null,
   "metadata": {
    "ExecuteTime": {
     "end_time": "2019-06-17T23:06:59.328993Z",
     "start_time": "2019-06-17T23:06:59.017587Z"
    }
   },
   "outputs": [],
   "source": [
    "plt.figure(figsize=(16,12))\n",
    "nx.draw_networkx(bara_albert, positions, with_labels=True, arrowsize=30, node_size=get_node_size(closeness), \n",
    "                 node_color=get_node_size(closeness))"
   ]
  },
  {
   "cell_type": "markdown",
   "metadata": {},
   "source": [
    "### Betweenness centrality\n",
    "Number of shortest pathes between two nodes the node is contained"
   ]
  },
  {
   "cell_type": "code",
   "execution_count": null,
   "metadata": {
    "ExecuteTime": {
     "end_time": "2019-06-17T23:06:59.351901Z",
     "start_time": "2019-06-17T23:06:59.332429Z"
    }
   },
   "outputs": [],
   "source": [
    "betweenness = nx.betweenness_centrality(bara_albert, normalized=True, endpoints=True)"
   ]
  },
  {
   "cell_type": "code",
   "execution_count": null,
   "metadata": {
    "ExecuteTime": {
     "end_time": "2019-06-17T23:06:59.693245Z",
     "start_time": "2019-06-17T23:06:59.353806Z"
    }
   },
   "outputs": [],
   "source": [
    "plt.figure(figsize=(16,12))\n",
    "nx.draw_networkx(bara_albert, positions, with_labels=True, arrowsize=30, node_size=get_node_size(betweenness), \n",
    "                 node_color=get_node_size(betweenness))"
   ]
  },
  {
   "cell_type": "markdown",
   "metadata": {},
   "source": [
    "### Eigenvector centrality\n",
    "- Eigenvector belonging to the largest eigenvalue of the adjacency matrix\n",
    "- Captures imortance of nodes the node is connected to"
   ]
  },
  {
   "cell_type": "code",
   "execution_count": null,
   "metadata": {
    "ExecuteTime": {
     "end_time": "2019-06-17T23:06:59.701338Z",
     "start_time": "2019-06-17T23:06:59.694928Z"
    }
   },
   "outputs": [],
   "source": [
    "eigenvec_cen = nx.eigenvector_centrality_numpy(bara_albert)"
   ]
  },
  {
   "cell_type": "code",
   "execution_count": null,
   "metadata": {
    "ExecuteTime": {
     "end_time": "2019-06-17T23:07:00.012451Z",
     "start_time": "2019-06-17T23:06:59.703082Z"
    }
   },
   "outputs": [],
   "source": [
    "plt.figure(figsize=(16,12))\n",
    "nx.draw_networkx(bara_albert, positions, with_labels=True, arrowsize=30, node_size=get_node_size(eigenvec_cen), \n",
    "                 node_color=get_node_size(eigenvec_cen))"
   ]
  },
  {
   "cell_type": "markdown",
   "metadata": {},
   "source": [
    "### Clustering\n",
    "Fraction of neighboring nodes that have a edge with each other (friends are also friends)"
   ]
  },
  {
   "cell_type": "code",
   "execution_count": null,
   "metadata": {
    "ExecuteTime": {
     "end_time": "2019-06-17T23:07:00.018256Z",
     "start_time": "2019-06-17T23:07:00.014538Z"
    }
   },
   "outputs": [],
   "source": [
    "clustering = nx.clustering(bara_albert)"
   ]
  },
  {
   "cell_type": "code",
   "execution_count": null,
   "metadata": {
    "ExecuteTime": {
     "end_time": "2019-06-17T23:07:00.367661Z",
     "start_time": "2019-06-17T23:07:00.019973Z"
    }
   },
   "outputs": [],
   "source": [
    "plt.figure(figsize=(16,12))\n",
    "nx.draw_networkx(bara_albert, positions, with_labels=True, arrowsize=30, node_size=get_node_size(clustering), \n",
    "                 node_color=get_node_size(clustering))"
   ]
  },
  {
   "cell_type": "markdown",
   "metadata": {},
   "source": [
    "### Minimum spanning tree\n",
    "Graph with the smallest amount of edge weights that connects all vertices"
   ]
  },
  {
   "cell_type": "code",
   "execution_count": null,
   "metadata": {
    "ExecuteTime": {
     "end_time": "2019-06-17T23:07:00.372800Z",
     "start_time": "2019-06-17T23:07:00.369410Z"
    }
   },
   "outputs": [],
   "source": [
    "msp = nx.minimum_spanning_tree(bara_albert)"
   ]
  },
  {
   "cell_type": "code",
   "execution_count": null,
   "metadata": {
    "ExecuteTime": {
     "end_time": "2019-06-17T23:07:00.705958Z",
     "start_time": "2019-06-17T23:07:00.376071Z"
    }
   },
   "outputs": [],
   "source": [
    "plt.figure(figsize=(16,12))\n",
    "nx.draw_networkx(msp, positions, with_labels=True, arrowsize=30, node_size=600, width=2)"
   ]
  },
  {
   "cell_type": "markdown",
   "metadata": {},
   "source": [
    "## Graph Layouting"
   ]
  },
  {
   "cell_type": "markdown",
   "metadata": {},
   "source": [
    "### Circular layout"
   ]
  },
  {
   "cell_type": "code",
   "execution_count": null,
   "metadata": {
    "ExecuteTime": {
     "end_time": "2019-06-17T23:07:07.821032Z",
     "start_time": "2019-06-17T23:07:00.708067Z"
    }
   },
   "outputs": [],
   "source": [
    "plt.figure(figsize=(16,12)) \n",
    "nx.draw_circular(digraph, with_labels=True, node_size=600, width=2)"
   ]
  },
  {
   "cell_type": "code",
   "execution_count": null,
   "metadata": {
    "ExecuteTime": {
     "end_time": "2019-06-17T23:07:07.833450Z",
     "start_time": "2019-06-17T23:07:07.822906Z"
    }
   },
   "outputs": [],
   "source": [
    "nx.number_connected_components(digraph.to_undirected())"
   ]
  },
  {
   "cell_type": "markdown",
   "metadata": {},
   "source": [
    "### Kamada Kawai layout\n",
    "- Edges are of more or less equal length and there are as few crossing edges as possible"
   ]
  },
  {
   "cell_type": "code",
   "execution_count": null,
   "metadata": {
    "ExecuteTime": {
     "end_time": "2019-06-17T23:07:15.493211Z",
     "start_time": "2019-06-17T23:07:07.835737Z"
    }
   },
   "outputs": [],
   "source": [
    "plt.figure(figsize=(16,12)) \n",
    "nx.draw_kamada_kawai(digraph, with_labels=True, node_size=600, width=2)"
   ]
  },
  {
   "cell_type": "markdown",
   "metadata": {},
   "source": [
    "### Spring layout\n",
    "- Position nodes using attracting and repulsive forces"
   ]
  },
  {
   "cell_type": "code",
   "execution_count": null,
   "metadata": {
    "ExecuteTime": {
     "end_time": "2019-06-17T23:07:22.877641Z",
     "start_time": "2019-06-17T23:07:15.497436Z"
    }
   },
   "outputs": [],
   "source": [
    "plt.figure(figsize=(16,12)) \n",
    "nx.draw_spring(digraph, with_labels=True, node_size=600, width=2)"
   ]
  },
  {
   "cell_type": "markdown",
   "metadata": {},
   "source": [
    "### Spectral layout\n",
    "- Position nodes using the eigenvectors of the graph Laplacian ($ L = D - A$, where A is the adjacency matrix and D is the diagonal matrix)"
   ]
  },
  {
   "cell_type": "code",
   "execution_count": null,
   "metadata": {
    "ExecuteTime": {
     "end_time": "2019-06-17T23:07:27.114829Z",
     "start_time": "2019-06-17T23:07:22.879269Z"
    }
   },
   "outputs": [],
   "source": [
    "plt.figure(figsize=(16,12)) \n",
    "nx.draw_spectral(digraph, with_labels=True, node_size=2000, width=2)"
   ]
  },
  {
   "cell_type": "markdown",
   "metadata": {},
   "source": [
    "### Alternative formulation (calculate layout independently)"
   ]
  },
  {
   "cell_type": "code",
   "execution_count": null,
   "metadata": {
    "ExecuteTime": {
     "end_time": "2019-06-17T23:07:34.684058Z",
     "start_time": "2019-06-17T23:07:27.116398Z"
    }
   },
   "outputs": [],
   "source": [
    "pos = nx.kamada_kawai_layout(digraph)\n",
    "plt.figure(figsize=(16,12))\n",
    "nx.draw_networkx(digraph, pos=pos, with_labels=True, node_size=600, width=2)"
   ]
  },
  {
   "cell_type": "markdown",
   "metadata": {},
   "source": [
    "## Wrap up"
   ]
  },
  {
   "cell_type": "markdown",
   "metadata": {
    "ExecuteTime": {
     "end_time": "2019-06-17T22:47:23.041645Z",
     "start_time": "2019-06-17T22:47:23.034357Z"
    }
   },
   "source": [
    "<pre>\n",
    "\n",
    "\n",
    "\n",
    "</pre>\n",
    "<div><p><font size=\"20\"><center>Thank you!</center></font></p></div>\n",
    "<pre>\n",
    "\n",
    "</pre>\n",
    "<div><p><center><font size=\"5\">The content of the talk can be found here: <a href=\"https://github.com/rquadrat/network-analysis\">https://github.com/rquadrat/network-analysis</a></font></center></p></div>\n",
    "<pre>\n",
    "\n",
    "\n",
    "</pre>"
   ]
  }
 ],
 "metadata": {
  "celltoolbar": "Slideshow",
  "kernelspec": {
   "display_name": "Python 3",
   "language": "python",
   "name": "python3"
  },
  "language_info": {
   "codemirror_mode": {
    "name": "ipython",
    "version": 3
   },
   "file_extension": ".py",
   "mimetype": "text/x-python",
   "name": "python",
   "nbconvert_exporter": "python",
   "pygments_lexer": "ipython3",
   "version": "3.7.3"
  },
  "toc": {
   "base_numbering": 1,
   "nav_menu": {
    "height": "768px",
    "width": "268px"
   },
   "number_sections": true,
   "sideBar": true,
   "skip_h1_title": false,
   "title_cell": "Table of Contents",
   "title_sidebar": "Contents",
   "toc_cell": false,
   "toc_position": {},
   "toc_section_display": true,
   "toc_window_display": false
  }
 },
 "nbformat": 4,
 "nbformat_minor": 2
}
