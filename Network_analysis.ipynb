{
 "cells": [
  {
   "cell_type": "markdown",
   "metadata": {
    "slideshow": {
     "slide_type": "slide"
    }
   },
   "source": [
    "# Introduction to graph analysis with networkx"
   ]
  },
  {
   "cell_type": "markdown",
   "metadata": {
    "heading_collapsed": true,
    "slideshow": {
     "slide_type": "slide"
    }
   },
   "source": [
    "## Graphs are everywhere"
   ]
  },
  {
   "cell_type": "markdown",
   "metadata": {
    "hidden": true,
    "slideshow": {
     "slide_type": "fragment"
    }
   },
   "source": [
    "![Routing graph](img/17_node_mesh_network.png)\n"
   ]
  },
  {
   "cell_type": "markdown",
   "metadata": {
    "hidden": true,
    "slideshow": {
     "slide_type": "subslide"
    }
   },
   "source": [
    "![Family tree](img/Familia_Curie.png)"
   ]
  },
  {
   "cell_type": "markdown",
   "metadata": {
    "ExecuteTime": {
     "end_time": "2019-06-03T21:24:10.419097Z",
     "start_time": "2019-06-03T21:24:09.812037Z"
    },
    "hidden": true,
    "slideshow": {
     "slide_type": "slide"
    }
   },
   "source": [
    "![Social network](img/social_network.png)\n"
   ]
  },
  {
   "cell_type": "markdown",
   "metadata": {
    "hidden": true,
    "slideshow": {
     "slide_type": "slide"
    }
   },
   "source": [
    "<img src=\"img/Semantic_Net.svg\" alt=\"Semantic graph\" style=\"height: 700px;\"/>"
   ]
  },
  {
   "cell_type": "markdown",
   "metadata": {
    "heading_collapsed": true,
    "slideshow": {
     "slide_type": "slide"
    }
   },
   "source": [
    "## What are graphs?"
   ]
  },
  {
   "cell_type": "markdown",
   "metadata": {
    "hidden": true,
    "slideshow": {
     "slide_type": "slide"
    }
   },
   "source": [
    "### Definition\n",
    "- A graph  is a pair G = (V, E), where V is a set whose elements are called vertices (singular: vertex), and E is a set of two-sets (set with two distinct elements) of vertices, whose elements are called edges (sometimes links or lines)\n",
    "- A directed graph or digraph is a graph in which edges have orientations\n",
    "- A complete graph is a graph in which each pair of vertices is joined by an edge. A complete graph contains all possible edges\n",
    "- A weighted graph or a network is a graph in which a number (the weight) is assigned to each edge"
   ]
  },
  {
   "cell_type": "markdown",
   "metadata": {
    "hidden": true
   },
   "source": [
    "### Further terms\n",
    "- Centrality: identify the most important vertices within a graph\n",
    "- Component: Is a subgraph in which any two vertices are connected to each other by paths in an undirected graph\n",
    "- Complete graph: Every node is connected to each other node\n"
   ]
  },
  {
   "cell_type": "markdown",
   "metadata": {},
   "source": [
    "## Preparation"
   ]
  },
  {
   "cell_type": "code",
   "execution_count": null,
   "metadata": {
    "ExecuteTime": {
     "end_time": "2019-06-05T16:16:09.098665Z",
     "start_time": "2019-06-05T16:16:09.091668Z"
    },
    "hide_input": false
   },
   "outputs": [],
   "source": [
    "import pandas as pd\n",
    "import networkx as nx\n",
    "import matplotlib.pyplot as plt\n",
    "import numpy as np"
   ]
  },
  {
   "cell_type": "code",
   "execution_count": null,
   "metadata": {
    "ExecuteTime": {
     "end_time": "2019-06-05T16:16:09.510107Z",
     "start_time": "2019-06-05T16:16:09.502691Z"
    }
   },
   "outputs": [],
   "source": [
    "%matplotlib inline"
   ]
  },
  {
   "cell_type": "code",
   "execution_count": null,
   "metadata": {
    "ExecuteTime": {
     "end_time": "2019-06-05T16:16:10.385851Z",
     "start_time": "2019-06-05T16:16:10.375731Z"
    }
   },
   "outputs": [],
   "source": [
    "def get_node_size(value_dict):\n",
    "    value_array = np.array(list(value_dict.values()))\n",
    "    value_range = value_array.max() - value_array.min()\n",
    "    node_size = (2 * (value_array - value_array.min())/value_range + 1) * 300\n",
    "    return node_size.tolist()"
   ]
  },
  {
   "cell_type": "markdown",
   "metadata": {
    "heading_collapsed": true,
    "slideshow": {
     "slide_type": "slide"
    }
   },
   "source": [
    "## networkx package structure"
   ]
  },
  {
   "cell_type": "markdown",
   "metadata": {
    "hidden": true,
    "slideshow": {
     "slide_type": "fragment"
    }
   },
   "source": [
    "- networkx.{Graph, DiGraph, MultiGraph, MultiDiGraph}: Basic classes for Graphs\n",
    "- networkx.algorithms.*: Functions to evaluate and analysing on a graph structure\n",
    "- networkx.classes.function.*: Get graph properties via function calls\n",
    "- networkx.generator.*: Generate specific types of graphs or random graphs, some existing datasets\n",
    "- networkx.linalg.*: Calculate some derived matrix properties of graph\n",
    "- networkx.convert.*: Conversion from/to different python data types\n",
    "- networkx.drawing.*: (Basic) layouting and plotting functions"
   ]
  },
  {
   "cell_type": "markdown",
   "metadata": {
    "heading_collapsed": true,
    "hide_input": true,
    "slideshow": {
     "slide_type": "slide"
    }
   },
   "source": [
    "## Calling package functions\n",
    "Almost every function can be used by applying: \n",
    "```\n",
    "nx.function_name(G, additional_arguments)\n",
    "```\n",
    "where G is the Graph you are trying to analyse"
   ]
  },
  {
   "cell_type": "markdown",
   "metadata": {
    "slideshow": {
     "slide_type": "slide"
    }
   },
   "source": [
    "## Defining graphs in networkx"
   ]
  },
  {
   "cell_type": "markdown",
   "metadata": {},
   "source": [
    "### Undirected"
   ]
  },
  {
   "cell_type": "code",
   "execution_count": null,
   "metadata": {
    "ExecuteTime": {
     "end_time": "2019-06-04T16:21:16.053145Z",
     "start_time": "2019-06-04T16:21:16.046465Z"
    }
   },
   "outputs": [],
   "source": [
    "G = nx.Graph() \n",
    "\n",
    "# Add a node\n",
    "G.add_node(1) \n",
    "G.add_nodes_from([2,3]) # You can also add a list of nodes by passing a list argument\n",
    "\n",
    "# Add edges \n",
    "G.add_edge(1,2)\n",
    "\n",
    "e = (2,3)\n",
    "G.add_edge(*e) # * unpacks the tuple\n",
    "G.add_edges_from([(1,2), (1,3)]) # Just like nodes we can add edges from a list"
   ]
  },
  {
   "cell_type": "markdown",
   "metadata": {},
   "source": [
    "### Directed"
   ]
  },
  {
   "cell_type": "code",
   "execution_count": null,
   "metadata": {
    "ExecuteTime": {
     "end_time": "2019-06-05T16:51:41.566173Z",
     "start_time": "2019-06-05T16:51:41.558125Z"
    }
   },
   "outputs": [],
   "source": [
    "G = nx.DiGraph()\n",
    "\n",
    "# Defining nodes and edges is the same as in the Graph example:\n",
    "G.add_nodes_from([1, 2,3])\n",
    "\n",
    "G.add_edge(1,2)\n",
    "\n",
    "G.add_edges_from([(1,2), (1,3), (2,3)])"
   ]
  },
  {
   "cell_type": "code",
   "execution_count": null,
   "metadata": {
    "ExecuteTime": {
     "end_time": "2019-06-05T16:51:42.369533Z",
     "start_time": "2019-06-05T16:51:42.142680Z"
    }
   },
   "outputs": [],
   "source": [
    "plt.figure(figsize=(16,12))\n",
    "nx.draw_networkx(G, with_labels=True, arrowsize=30, node_size=1000, width=3)"
   ]
  },
  {
   "cell_type": "markdown",
   "metadata": {},
   "source": [
    "### With weights"
   ]
  },
  {
   "cell_type": "code",
   "execution_count": null,
   "metadata": {
    "ExecuteTime": {
     "end_time": "2019-06-05T16:52:05.845463Z",
     "start_time": "2019-06-05T16:52:05.835546Z"
    }
   },
   "outputs": [],
   "source": [
    "G = nx.Graph()\n",
    "G.add_nodes_from([1, 2, 3, 4])\n",
    "G.add_weighted_edges_from([(1, 4, 5.), (2, 3, 0.5), (1, 2, 1.), (3, 4, 3.)])"
   ]
  },
  {
   "cell_type": "code",
   "execution_count": null,
   "metadata": {
    "ExecuteTime": {
     "end_time": "2019-06-05T16:52:06.370377Z",
     "start_time": "2019-06-05T16:52:06.361657Z"
    }
   },
   "outputs": [],
   "source": [
    "nx.attr_matrix(G, edge_attr='weight')"
   ]
  },
  {
   "cell_type": "code",
   "execution_count": null,
   "metadata": {
    "ExecuteTime": {
     "end_time": "2019-06-05T16:52:06.910624Z",
     "start_time": "2019-06-05T16:52:06.904903Z"
    }
   },
   "outputs": [],
   "source": [
    "labels = nx.get_edge_attributes(G, 'weight')"
   ]
  },
  {
   "cell_type": "code",
   "execution_count": null,
   "metadata": {
    "ExecuteTime": {
     "end_time": "2019-06-05T18:14:33.875960Z",
     "start_time": "2019-06-05T18:14:33.634622Z"
    }
   },
   "outputs": [],
   "source": [
    "pos = nx.spring_layout(G)\n",
    "plt.figure(figsize=(16,12)) \n",
    "nx.draw_networkx_nodes(G, pos, node_size=600)\n",
    "nx.draw_networkx_edges(G, pos, width=list(labels.values()))\n",
    "nx.draw_networkx_labels(G, pos);\n",
    "nx.draw_networkx_edge_labels(G, pos, font_size=20);"
   ]
  },
  {
   "cell_type": "markdown",
   "metadata": {},
   "source": [
    "### Accessing graph properties"
   ]
  },
  {
   "cell_type": "code",
   "execution_count": null,
   "metadata": {
    "ExecuteTime": {
     "end_time": "2019-06-05T16:57:50.717065Z",
     "start_time": "2019-06-05T16:57:50.708193Z"
    }
   },
   "outputs": [],
   "source": [
    "G.nodes()"
   ]
  },
  {
   "cell_type": "code",
   "execution_count": null,
   "metadata": {
    "ExecuteTime": {
     "end_time": "2019-06-05T16:57:51.594402Z",
     "start_time": "2019-06-05T16:57:51.586892Z"
    }
   },
   "outputs": [],
   "source": [
    "G.edges()"
   ]
  },
  {
   "cell_type": "markdown",
   "metadata": {
    "heading_collapsed": true
   },
   "source": [
    "## Creating a graph with the conversion functions"
   ]
  },
  {
   "cell_type": "code",
   "execution_count": null,
   "metadata": {
    "ExecuteTime": {
     "end_time": "2019-06-05T16:54:46.810004Z",
     "start_time": "2019-06-05T16:54:46.799733Z"
    },
    "hidden": true
   },
   "outputs": [],
   "source": [
    "edges = pd.read_csv('data/out.moreno_innovation_innovation', sep=' ', names=['from_node', 'to_node'], skiprows=2)"
   ]
  },
  {
   "cell_type": "code",
   "execution_count": null,
   "metadata": {
    "ExecuteTime": {
     "end_time": "2019-06-05T16:54:47.300278Z",
     "start_time": "2019-06-05T16:54:47.262478Z"
    },
    "hidden": true
   },
   "outputs": [],
   "source": [
    "edges"
   ]
  },
  {
   "cell_type": "code",
   "execution_count": null,
   "metadata": {
    "ExecuteTime": {
     "end_time": "2019-06-05T16:54:48.548486Z",
     "start_time": "2019-06-05T16:54:48.534208Z"
    },
    "hidden": true
   },
   "outputs": [],
   "source": [
    "digraph = nx.from_pandas_edgelist(edges,'from_node', 'to_node', create_using=nx.DiGraph)"
   ]
  },
  {
   "cell_type": "code",
   "execution_count": null,
   "metadata": {
    "ExecuteTime": {
     "end_time": "2019-05-31T16:15:54.340546Z",
     "start_time": "2019-05-31T16:15:54.273931Z"
    },
    "hidden": true
   },
   "outputs": [],
   "source": [
    "pd.DataFrame((nx.adjacency_matrix(digraph).todense()))"
   ]
  },
  {
   "cell_type": "code",
   "execution_count": null,
   "metadata": {
    "hidden": true
   },
   "outputs": [],
   "source": [
    "plt.figure(figsize=(16,12)) \n",
    "nx.draw_networkx(digraph, with_labels=True)"
   ]
  },
  {
   "cell_type": "markdown",
   "metadata": {},
   "source": [
    "## Random Graphs"
   ]
  },
  {
   "cell_type": "markdown",
   "metadata": {},
   "source": [
    "### Erdos-Renyi networks\n",
    "Every edge has constant probabilty $p$"
   ]
  },
  {
   "cell_type": "code",
   "execution_count": null,
   "metadata": {
    "ExecuteTime": {
     "end_time": "2019-06-05T17:18:02.674339Z",
     "start_time": "2019-06-05T17:18:02.667293Z"
    }
   },
   "outputs": [],
   "source": [
    "erdos_renyi = nx.random_graphs.erdos_renyi_graph(50, 0.1)"
   ]
  },
  {
   "cell_type": "code",
   "execution_count": null,
   "metadata": {
    "ExecuteTime": {
     "end_time": "2019-06-05T18:15:18.388009Z",
     "start_time": "2019-06-05T18:15:18.033868Z"
    }
   },
   "outputs": [],
   "source": [
    "plt.figure(figsize=(16,12)) \n",
    "nx.draw_networkx(erdos_renyi, with_labels=True, node_size=600, width=2)"
   ]
  },
  {
   "cell_type": "markdown",
   "metadata": {},
   "source": [
    "### $\\log(n)/n$ phase transition"
   ]
  },
  {
   "cell_type": "code",
   "execution_count": null,
   "metadata": {
    "ExecuteTime": {
     "end_time": "2019-06-05T17:02:47.786384Z",
     "start_time": "2019-06-05T17:02:41.685546Z"
    }
   },
   "outputs": [],
   "source": [
    "# Add plot increasing edge prob multiple trials amount one component vs more than one\n",
    "probs = np.arange(0.01, 0.05001, 0.0025)\n",
    "has_one_component = [np.mean([nx.number_connected_components(nx.random_graphs.erdos_renyi_graph(100, p)) < 2 for i in range(200)]) for p in probs]"
   ]
  },
  {
   "cell_type": "code",
   "execution_count": null,
   "metadata": {
    "ExecuteTime": {
     "end_time": "2019-06-05T17:19:08.060156Z",
     "start_time": "2019-06-05T17:19:07.815062Z"
    }
   },
   "outputs": [],
   "source": [
    "plt.figure(figsize=(16, 12))\n",
    "plt.plot(probs, has_one_component, lw=4)\n",
    "plt.xlabel('Edge probability', fontsize=25)\n",
    "plt.ylabel('Frequency of one component', fontsize=25)\n",
    "plt.tick_params(labelsize=20)\n",
    "plt.show()"
   ]
  },
  {
   "cell_type": "markdown",
   "metadata": {},
   "source": [
    "### Growing random networks"
   ]
  },
  {
   "cell_type": "markdown",
   "metadata": {},
   "source": [
    "### Preferential attachment  (Barabási–Albert)"
   ]
  },
  {
   "cell_type": "code",
   "execution_count": null,
   "metadata": {
    "ExecuteTime": {
     "end_time": "2019-06-05T16:16:21.116588Z",
     "start_time": "2019-06-05T16:16:21.110610Z"
    }
   },
   "outputs": [],
   "source": [
    "bara_albert = nx.barabasi_albert_graph(50, 2)"
   ]
  },
  {
   "cell_type": "code",
   "execution_count": null,
   "metadata": {
    "ExecuteTime": {
     "end_time": "2019-06-05T18:15:38.326413Z",
     "start_time": "2019-06-05T18:15:37.985048Z"
    }
   },
   "outputs": [],
   "source": [
    "plt.figure(figsize=(16,12)) \n",
    "nx.draw_networkx(bara_albert, with_labels=True, node_size=600, width=2)"
   ]
  },
  {
   "cell_type": "markdown",
   "metadata": {},
   "source": [
    "## Graph analysis"
   ]
  },
  {
   "cell_type": "code",
   "execution_count": null,
   "metadata": {
    "ExecuteTime": {
     "end_time": "2019-06-05T17:38:12.170583Z",
     "start_time": "2019-06-05T17:38:12.147881Z"
    }
   },
   "outputs": [],
   "source": [
    "positions = nx.spring_layout(bara_albert)"
   ]
  },
  {
   "cell_type": "markdown",
   "metadata": {},
   "source": [
    "### Edge density\n",
    "Number of edges in the graph compared to number of edges in complete graph"
   ]
  },
  {
   "cell_type": "code",
   "execution_count": null,
   "metadata": {
    "ExecuteTime": {
     "end_time": "2019-06-04T17:24:26.477700Z",
     "start_time": "2019-06-04T17:24:26.471787Z"
    }
   },
   "outputs": [],
   "source": [
    "nx.density(bara_albert)"
   ]
  },
  {
   "cell_type": "markdown",
   "metadata": {},
   "source": [
    "### Dijkstra pathes\n",
    "Shortest path from one vertex to another vertex"
   ]
  },
  {
   "cell_type": "code",
   "execution_count": null,
   "metadata": {
    "ExecuteTime": {
     "end_time": "2019-06-05T17:22:52.395379Z",
     "start_time": "2019-06-05T17:22:52.388586Z"
    }
   },
   "outputs": [],
   "source": [
    "dij_path = nx.dijkstra_path(bara_albert, source=49, target=20)"
   ]
  },
  {
   "cell_type": "code",
   "execution_count": null,
   "metadata": {
    "ExecuteTime": {
     "end_time": "2019-06-05T17:22:55.015627Z",
     "start_time": "2019-06-05T17:22:55.007453Z"
    }
   },
   "outputs": [],
   "source": [
    "dij_path"
   ]
  },
  {
   "cell_type": "markdown",
   "metadata": {},
   "source": [
    "### Average shortest path length\n",
    "Average length of all shortest pathes"
   ]
  },
  {
   "cell_type": "code",
   "execution_count": null,
   "metadata": {
    "ExecuteTime": {
     "end_time": "2019-06-05T17:23:08.822244Z",
     "start_time": "2019-06-05T17:23:08.799594Z"
    }
   },
   "outputs": [],
   "source": [
    "nx.average_shortest_path_length(bara_albert)"
   ]
  },
  {
   "cell_type": "markdown",
   "metadata": {},
   "source": [
    "### Node degree"
   ]
  },
  {
   "cell_type": "code",
   "execution_count": null,
   "metadata": {
    "ExecuteTime": {
     "end_time": "2019-06-05T17:38:30.757502Z",
     "start_time": "2019-06-05T17:38:30.752026Z"
    }
   },
   "outputs": [],
   "source": [
    "node_degree = nx.degree_centrality(bara_albert)"
   ]
  },
  {
   "cell_type": "code",
   "execution_count": null,
   "metadata": {
    "ExecuteTime": {
     "end_time": "2019-06-05T18:16:18.669867Z",
     "start_time": "2019-06-05T18:16:18.333895Z"
    }
   },
   "outputs": [],
   "source": [
    "plt.figure(figsize=(16,12))\n",
    "nx.draw_networkx(bara_albert, positions, with_labels=True, arrowsize=30, node_size=get_node_size(node_degree), \n",
    "                 node_color=get_node_size(node_degree))"
   ]
  },
  {
   "cell_type": "markdown",
   "metadata": {},
   "source": [
    "### Degree histogramm"
   ]
  },
  {
   "cell_type": "code",
   "execution_count": null,
   "metadata": {
    "ExecuteTime": {
     "end_time": "2019-06-05T17:24:25.525636Z",
     "start_time": "2019-06-05T17:24:25.519761Z"
    }
   },
   "outputs": [],
   "source": [
    "degrees = nx.degree_histogram(bara_albert)"
   ]
  },
  {
   "cell_type": "code",
   "execution_count": null,
   "metadata": {
    "ExecuteTime": {
     "end_time": "2019-06-05T17:27:08.563469Z",
     "start_time": "2019-06-05T17:27:08.331130Z"
    }
   },
   "outputs": [],
   "source": [
    "plt.figure(figsize=(16, 12))\n",
    "plt.plot(list(range(len(degrees))), np.array(degrees)/len(bara_albert.nodes), lw=4)\n",
    "plt.xlabel('Degree', fontsize=25)\n",
    "plt.ylabel('Degree frequency', fontsize=25)\n",
    "plt.tick_params(labelsize=20)\n",
    "plt.show()"
   ]
  },
  {
   "cell_type": "markdown",
   "metadata": {},
   "source": [
    "### Closeness centrality\n",
    "Inverse average distance to all other nodes in the graph"
   ]
  },
  {
   "cell_type": "code",
   "execution_count": null,
   "metadata": {
    "ExecuteTime": {
     "end_time": "2019-06-05T17:34:31.255685Z",
     "start_time": "2019-06-05T17:34:31.235291Z"
    }
   },
   "outputs": [],
   "source": [
    "closeness = nx.closeness_centrality(bara_albert)"
   ]
  },
  {
   "cell_type": "code",
   "execution_count": null,
   "metadata": {
    "ExecuteTime": {
     "end_time": "2019-06-05T17:38:45.028622Z",
     "start_time": "2019-06-05T17:38:44.678981Z"
    }
   },
   "outputs": [],
   "source": [
    "plt.figure(figsize=(16,12))\n",
    "nx.draw_networkx(bara_albert, positions, with_labels=True, arrowsize=30, node_size=get_node_size(closeness), \n",
    "                 node_color=get_node_size(closeness))"
   ]
  },
  {
   "cell_type": "markdown",
   "metadata": {},
   "source": [
    "### Betweenness centrality\n",
    "Number of shortest pathes between two nodes the node is contained"
   ]
  },
  {
   "cell_type": "code",
   "execution_count": null,
   "metadata": {
    "ExecuteTime": {
     "end_time": "2019-06-05T18:20:16.768923Z",
     "start_time": "2019-06-05T18:20:16.746574Z"
    }
   },
   "outputs": [],
   "source": [
    "betweenness = nx.betweenness_centrality(bara_albert, normalized=True, endpoints=True)"
   ]
  },
  {
   "cell_type": "code",
   "execution_count": null,
   "metadata": {
    "ExecuteTime": {
     "end_time": "2019-06-05T18:20:36.692241Z",
     "start_time": "2019-06-05T18:20:36.356101Z"
    }
   },
   "outputs": [],
   "source": [
    "plt.figure(figsize=(16,12))\n",
    "nx.draw_networkx(bara_albert, positions, with_labels=True, arrowsize=30, node_size=get_node_size(betweenness), \n",
    "                 node_color=get_node_size(betweenness))"
   ]
  },
  {
   "cell_type": "markdown",
   "metadata": {},
   "source": [
    "### Eigenvector centrality\n",
    "- Eigenvector belonging to the largest eigenvalue of the adjacency matrix\n",
    "- Captures imortance of nodes the node is connected to"
   ]
  },
  {
   "cell_type": "code",
   "execution_count": null,
   "metadata": {
    "ExecuteTime": {
     "end_time": "2019-06-05T18:21:18.411171Z",
     "start_time": "2019-06-05T18:21:18.369454Z"
    }
   },
   "outputs": [],
   "source": [
    "eigenvec_cen = nx.eigenvector_centrality_numpy(bara_albert)"
   ]
  },
  {
   "cell_type": "code",
   "execution_count": null,
   "metadata": {
    "ExecuteTime": {
     "end_time": "2019-06-05T18:21:47.954561Z",
     "start_time": "2019-06-05T18:21:47.618745Z"
    }
   },
   "outputs": [],
   "source": [
    "plt.figure(figsize=(16,12))\n",
    "nx.draw_networkx(bara_albert, positions, with_labels=True, arrowsize=30, node_size=get_node_size(eigenvec_cen), \n",
    "                 node_color=get_node_size(eigenvec_cen))"
   ]
  },
  {
   "cell_type": "markdown",
   "metadata": {},
   "source": [
    "### Clustering\n",
    "Fraction of neighboring nodes that have a edge with each other (friends are also friends)"
   ]
  },
  {
   "cell_type": "code",
   "execution_count": null,
   "metadata": {
    "ExecuteTime": {
     "end_time": "2019-06-05T18:30:43.513404Z",
     "start_time": "2019-06-05T18:30:43.505818Z"
    }
   },
   "outputs": [],
   "source": [
    "clustering = nx.clustering(bara_albert)"
   ]
  },
  {
   "cell_type": "code",
   "execution_count": null,
   "metadata": {
    "ExecuteTime": {
     "end_time": "2019-06-05T18:31:07.423720Z",
     "start_time": "2019-06-05T18:31:07.072611Z"
    }
   },
   "outputs": [],
   "source": [
    "plt.figure(figsize=(16,12))\n",
    "nx.draw_networkx(bara_albert, positions, with_labels=True, arrowsize=30, node_size=get_node_size(clustering), \n",
    "                 node_color=get_node_size(clustering))"
   ]
  },
  {
   "cell_type": "markdown",
   "metadata": {},
   "source": [
    "### Minimum spanning tree\n",
    "Graph with the smallest amount of edge weights that connects all vertices"
   ]
  },
  {
   "cell_type": "code",
   "execution_count": null,
   "metadata": {
    "ExecuteTime": {
     "end_time": "2019-06-05T18:32:43.988956Z",
     "start_time": "2019-06-05T18:32:43.982205Z"
    }
   },
   "outputs": [],
   "source": [
    "msp = nx.minimum_spanning_tree(bara_albert)"
   ]
  },
  {
   "cell_type": "code",
   "execution_count": null,
   "metadata": {
    "ExecuteTime": {
     "end_time": "2019-06-05T18:33:41.770166Z",
     "start_time": "2019-06-05T18:33:41.445817Z"
    }
   },
   "outputs": [],
   "source": [
    "plt.figure(figsize=(16,12))\n",
    "nx.draw_networkx(msp, positions, with_labels=True, arrowsize=30, node_size=600, width=2)"
   ]
  },
  {
   "cell_type": "markdown",
   "metadata": {},
   "source": [
    "## Graph Layouting"
   ]
  },
  {
   "cell_type": "markdown",
   "metadata": {},
   "source": [
    "### Circular layout"
   ]
  },
  {
   "cell_type": "code",
   "execution_count": null,
   "metadata": {
    "ExecuteTime": {
     "end_time": "2019-06-05T18:34:29.136707Z",
     "start_time": "2019-06-05T18:34:21.817777Z"
    }
   },
   "outputs": [],
   "source": [
    "plt.figure(figsize=(16,12)) \n",
    "nx.draw_circular(digraph, with_labels=True, node_size=600, width=2)"
   ]
  },
  {
   "cell_type": "code",
   "execution_count": null,
   "metadata": {
    "ExecuteTime": {
     "end_time": "2019-06-05T18:34:48.637172Z",
     "start_time": "2019-06-05T18:34:48.618217Z"
    }
   },
   "outputs": [],
   "source": [
    "nx.number_connected_components(digraph.to_undirected())"
   ]
  },
  {
   "cell_type": "markdown",
   "metadata": {},
   "source": [
    "### Kamada Kawai layout\n",
    "- edges are of more or less equal length and there are as few crossing edges as possible"
   ]
  },
  {
   "cell_type": "code",
   "execution_count": null,
   "metadata": {
    "ExecuteTime": {
     "end_time": "2019-06-05T18:35:04.967562Z",
     "start_time": "2019-06-05T18:34:57.165198Z"
    }
   },
   "outputs": [],
   "source": [
    "plt.figure(figsize=(16,12)) \n",
    "nx.draw_kamada_kawai(digraph, with_labels=True, node_size=600, width=2)"
   ]
  },
  {
   "cell_type": "markdown",
   "metadata": {},
   "source": [
    "### Spring layout"
   ]
  },
  {
   "cell_type": "code",
   "execution_count": null,
   "metadata": {
    "ExecuteTime": {
     "end_time": "2019-06-05T18:35:19.092483Z",
     "start_time": "2019-06-05T18:35:11.612914Z"
    }
   },
   "outputs": [],
   "source": [
    "plt.figure(figsize=(16,12)) \n",
    "nx.draw_spring(digraph, with_labels=True, node_size=600, width=2)"
   ]
  },
  {
   "cell_type": "markdown",
   "metadata": {},
   "source": [
    "### Spectral layout"
   ]
  },
  {
   "cell_type": "code",
   "execution_count": null,
   "metadata": {
    "ExecuteTime": {
     "end_time": "2019-06-05T18:35:59.529833Z",
     "start_time": "2019-06-05T18:35:54.986794Z"
    }
   },
   "outputs": [],
   "source": [
    "plt.figure(figsize=(16,12)) \n",
    "nx.draw_spectral(digraph, with_labels=True, node_size=2000, width=2)"
   ]
  },
  {
   "cell_type": "markdown",
   "metadata": {},
   "source": [
    "### Alternative formulation (calculate layout independently)"
   ]
  },
  {
   "cell_type": "code",
   "execution_count": null,
   "metadata": {
    "ExecuteTime": {
     "end_time": "2019-06-05T18:36:14.458753Z",
     "start_time": "2019-06-05T18:36:06.777430Z"
    }
   },
   "outputs": [],
   "source": [
    "pos = nx.kamada_kawai_layout(digraph)\n",
    "plt.figure(figsize=(16,12))\n",
    "nx.draw_networkx(digraph, pos=pos, with_labels=True, node_size=600, width=2)"
   ]
  }
 ],
 "metadata": {
  "celltoolbar": "Slideshow",
  "kernelspec": {
   "display_name": "Python 3",
   "language": "python",
   "name": "python3"
  },
  "language_info": {
   "codemirror_mode": {
    "name": "ipython",
    "version": 3
   },
   "file_extension": ".py",
   "mimetype": "text/x-python",
   "name": "python",
   "nbconvert_exporter": "python",
   "pygments_lexer": "ipython3",
   "version": "3.7.3"
  },
  "toc": {
   "base_numbering": 1,
   "nav_menu": {
    "height": "768px",
    "width": "268px"
   },
   "number_sections": true,
   "sideBar": true,
   "skip_h1_title": false,
   "title_cell": "Table of Contents",
   "title_sidebar": "Contents",
   "toc_cell": false,
   "toc_position": {},
   "toc_section_display": true,
   "toc_window_display": false
  }
 },
 "nbformat": 4,
 "nbformat_minor": 2
}
