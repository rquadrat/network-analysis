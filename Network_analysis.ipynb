{
 "cells": [
  {
   "cell_type": "markdown",
   "metadata": {
    "slideshow": {
     "slide_type": "slide"
    }
   },
   "source": [
    "# Introduction to graph analysis with networkX"
   ]
  },
  {
   "cell_type": "markdown",
   "metadata": {
    "hide_input": false,
    "slideshow": {
     "slide_type": "slide"
    }
   },
   "source": [
    "## Graphs are everywhere"
   ]
  },
  {
   "cell_type": "markdown",
   "metadata": {
    "slideshow": {
     "slide_type": "slide"
    }
   },
   "source": [
    "<center><img src=\"img/17_node_mesh_network.png\" alt=\"Routing graph\"/></center>"
   ]
  },
  {
   "cell_type": "markdown",
   "metadata": {
    "slideshow": {
     "slide_type": "slide"
    }
   },
   "source": [
    "<center><img src=\"img/Familia_Curie.png\" alt=\"Family tree\"/></center>"
   ]
  },
  {
   "cell_type": "markdown",
   "metadata": {
    "ExecuteTime": {
     "end_time": "2019-06-18T17:34:54.037317Z",
     "start_time": "2019-06-18T17:34:53.277018Z"
    },
    "slideshow": {
     "slide_type": "slide"
    }
   },
   "source": [
    "<center><img src=\"tmp/social_network.png\" alt=\"Semantic graph\" style=\"height: 700px;\"/></center>"
   ]
  },
  {
   "cell_type": "markdown",
   "metadata": {
    "slideshow": {
     "slide_type": "slide"
    }
   },
   "source": [
    "<center><img src=\"img/Semantic_Net.svg\" alt=\"Semantic graph\" style=\"height: 700px;\"/></center>"
   ]
  },
  {
   "cell_type": "markdown",
   "metadata": {
    "slideshow": {
     "slide_type": "slide"
    }
   },
   "source": [
    "## What are graphs?"
   ]
  },
  {
   "cell_type": "markdown",
   "metadata": {
    "slideshow": {
     "slide_type": "-"
    }
   },
   "source": [
    "### Definition\n",
    "- A **graph** is a pair G = (V, E), where V is a set whose elements are called **vertices** (singular: vertex, also called nodes), and E is a set of two-sets (set with two distinct elements) of vertices, whose elements are called **edges** (sometimes links or lines)\n",
    "- A **directed graph** or **digraph** is a graph in which edges have orientations\n",
    "- A **weighted graph** or a **network** is a graph in which a number (the weight) is assigned to each edge"
   ]
  },
  {
   "cell_type": "markdown",
   "metadata": {
    "slideshow": {
     "slide_type": "-"
    }
   },
   "source": [
    "### Further terms\n",
    "- **Centrality**: identify the most important vertices within a graph\n",
    "- **Component**: Is a subgraph in which any two vertices are connected to each other by paths in an undirected graph\n",
    "- **Complete graph**: Every node is connected to each other node\n"
   ]
  },
  {
   "cell_type": "markdown",
   "metadata": {
    "slideshow": {
     "slide_type": "slide"
    }
   },
   "source": [
    "## Preparation"
   ]
  },
  {
   "cell_type": "code",
   "execution_count": null,
   "metadata": {
    "ExecuteTime": {
     "end_time": "2019-06-18T22:21:39.213149Z",
     "start_time": "2019-06-18T22:21:38.616518Z"
    },
    "hide_input": false,
    "slideshow": {
     "slide_type": "-"
    }
   },
   "outputs": [],
   "source": [
    "import pandas as pd\n",
    "import networkx as nx\n",
    "import matplotlib.pyplot as plt\n",
    "import numpy as np"
   ]
  },
  {
   "cell_type": "code",
   "execution_count": null,
   "metadata": {
    "ExecuteTime": {
     "end_time": "2019-06-18T22:21:39.595962Z",
     "start_time": "2019-06-18T22:21:39.587819Z"
    },
    "slideshow": {
     "slide_type": "-"
    }
   },
   "outputs": [],
   "source": [
    "%matplotlib inline"
   ]
  },
  {
   "cell_type": "code",
   "execution_count": null,
   "metadata": {
    "ExecuteTime": {
     "end_time": "2019-06-18T22:21:41.571276Z",
     "start_time": "2019-06-18T22:21:41.565940Z"
    },
    "slideshow": {
     "slide_type": "-"
    }
   },
   "outputs": [],
   "source": [
    "DEFAULT_FIG_SIZE=(16, 12)"
   ]
  },
  {
   "cell_type": "code",
   "execution_count": null,
   "metadata": {
    "ExecuteTime": {
     "end_time": "2019-06-18T22:21:41.785186Z",
     "start_time": "2019-06-18T22:21:41.774754Z"
    },
    "slideshow": {
     "slide_type": "slide"
    }
   },
   "outputs": [],
   "source": [
    "def get_node_size(value_dict):\n",
    "    value_array = np.array(list(value_dict.values()))\n",
    "    value_range = value_array.max() - value_array.min()\n",
    "    node_size = (2 * (value_array - value_array.min())/value_range + 1) * 300\n",
    "    return node_size.tolist()"
   ]
  },
  {
   "cell_type": "code",
   "execution_count": null,
   "metadata": {
    "ExecuteTime": {
     "end_time": "2019-06-18T22:46:21.023397Z",
     "start_time": "2019-06-18T22:46:21.014772Z"
    },
    "slideshow": {
     "slide_type": "-"
    }
   },
   "outputs": [],
   "source": [
    "def plot_graph(G, node_size=1000, figsize=DEFAULT_FIG_SIZE, width=2, arrowsize=30, plot_fun=nx.draw_networkx, **kwargs):\n",
    "    plt.figure(figsize=figsize)\n",
    "    plot_fun(G, with_labels=True, arrowsize=arrowsize, node_size=node_size, width=width, **kwargs)"
   ]
  },
  {
   "cell_type": "markdown",
   "metadata": {
    "slideshow": {
     "slide_type": "slide"
    }
   },
   "source": [
    "## networkX package structure"
   ]
  },
  {
   "cell_type": "markdown",
   "metadata": {
    "slideshow": {
     "slide_type": "-"
    }
   },
   "source": [
    "- **networkx.{Graph, DiGraph, MultiGraph, MultiDiGraph}**: Basic classes for Graphs\n",
    "- **networkx.algorithms.\\***: Functions to evaluate and analysing on a graph structure\n",
    "- **networkx.classes.function.\\***: Get graph properties via function calls\n",
    "- **networkx.generator.\\***: Generate specific types of graphs or random graphs, some existing datasets\n",
    "- **networkx.linalg.\\***: Calculate some derived matrix properties of graph\n",
    "- **networkx.convert.\\***: Conversion from/to different python data types\n",
    "- **networkx.drawing.\\***: (Basic) layouting and plotting functions"
   ]
  },
  {
   "cell_type": "markdown",
   "metadata": {
    "heading_collapsed": true,
    "hide_input": true,
    "slideshow": {
     "slide_type": "slide"
    }
   },
   "source": [
    "## Calling package functions\n",
    "Almost every function can be used by applying: \n",
    "```\n",
    "nx.function_name(G, additional_arguments)\n",
    "```\n",
    "where G is the Graph you are trying to analyse"
   ]
  },
  {
   "cell_type": "markdown",
   "metadata": {
    "slideshow": {
     "slide_type": "slide"
    }
   },
   "source": [
    "## Defining graphs in networkX"
   ]
  },
  {
   "cell_type": "markdown",
   "metadata": {
    "slideshow": {
     "slide_type": "-"
    }
   },
   "source": [
    "### Undirected"
   ]
  },
  {
   "cell_type": "code",
   "execution_count": null,
   "metadata": {
    "ExecuteTime": {
     "end_time": "2019-06-18T22:46:26.205706Z",
     "start_time": "2019-06-18T22:46:26.198418Z"
    },
    "slideshow": {
     "slide_type": "-"
    }
   },
   "outputs": [],
   "source": [
    "G = nx.Graph() \n",
    "\n",
    "# Add a node\n",
    "G.add_node(1) \n",
    "G.add_nodes_from([2,3]) # You can also add a list of nodes by passing a list argument"
   ]
  },
  {
   "cell_type": "code",
   "execution_count": null,
   "metadata": {
    "ExecuteTime": {
     "end_time": "2019-06-18T22:46:26.744794Z",
     "start_time": "2019-06-18T22:46:26.547794Z"
    },
    "slideshow": {
     "slide_type": "slide"
    }
   },
   "outputs": [],
   "source": [
    "plot_graph(G, width=3)"
   ]
  },
  {
   "cell_type": "code",
   "execution_count": null,
   "metadata": {
    "ExecuteTime": {
     "end_time": "2019-06-18T22:24:36.417679Z",
     "start_time": "2019-06-18T22:24:36.408993Z"
    },
    "slideshow": {
     "slide_type": "slide"
    }
   },
   "outputs": [],
   "source": [
    "# Add edges \n",
    "G.add_edge(1,2)\n",
    "\n",
    "e = (2,3)\n",
    "G.add_edge(*e) # * unpacks the tuple\n",
    "G.add_edges_from([(1,2), (1,3)]) # Just like nodes we can add edges from a list"
   ]
  },
  {
   "cell_type": "code",
   "execution_count": null,
   "metadata": {
    "ExecuteTime": {
     "end_time": "2019-06-18T22:24:37.148857Z",
     "start_time": "2019-06-18T22:24:36.946020Z"
    },
    "slideshow": {
     "slide_type": "slide"
    }
   },
   "outputs": [],
   "source": [
    "plot_graph(G, width=3)"
   ]
  },
  {
   "cell_type": "markdown",
   "metadata": {
    "slideshow": {
     "slide_type": "slide"
    }
   },
   "source": [
    "### Directed"
   ]
  },
  {
   "cell_type": "code",
   "execution_count": null,
   "metadata": {
    "ExecuteTime": {
     "end_time": "2019-06-18T22:25:01.563744Z",
     "start_time": "2019-06-18T22:25:01.557860Z"
    },
    "slideshow": {
     "slide_type": "-"
    }
   },
   "outputs": [],
   "source": [
    "G = nx.DiGraph()\n",
    "\n",
    "# Defining nodes and edges is the same as in the Graph example:\n",
    "G.add_nodes_from([1, 2,3])\n",
    "\n",
    "G.add_edges_from([(1,2), (1,3), (2,3)])"
   ]
  },
  {
   "cell_type": "code",
   "execution_count": null,
   "metadata": {
    "ExecuteTime": {
     "end_time": "2019-06-18T22:25:22.984243Z",
     "start_time": "2019-06-18T22:25:22.722355Z"
    },
    "slideshow": {
     "slide_type": "slide"
    }
   },
   "outputs": [],
   "source": [
    "plot_graph(G, width=3)"
   ]
  },
  {
   "cell_type": "markdown",
   "metadata": {
    "slideshow": {
     "slide_type": "slide"
    }
   },
   "source": [
    "### With weights"
   ]
  },
  {
   "cell_type": "code",
   "execution_count": null,
   "metadata": {
    "ExecuteTime": {
     "end_time": "2019-06-18T20:23:41.863339Z",
     "start_time": "2019-06-18T20:23:41.853659Z"
    },
    "slideshow": {
     "slide_type": "-"
    }
   },
   "outputs": [],
   "source": [
    "G = nx.Graph()\n",
    "G.add_nodes_from([1, 2, 3, 4])\n",
    "G.add_weighted_edges_from([(1, 4, 5.), (2, 3, 0.5), (1, 2, 1.), (3, 4, 3.)])"
   ]
  },
  {
   "cell_type": "code",
   "execution_count": null,
   "metadata": {
    "ExecuteTime": {
     "end_time": "2019-06-18T20:23:42.319035Z",
     "start_time": "2019-06-18T20:23:42.309673Z"
    },
    "slideshow": {
     "slide_type": "-"
    }
   },
   "outputs": [],
   "source": [
    "nx.attr_matrix(G, edge_attr='weight')"
   ]
  },
  {
   "cell_type": "code",
   "execution_count": null,
   "metadata": {
    "ExecuteTime": {
     "end_time": "2019-06-18T20:23:46.144875Z",
     "start_time": "2019-06-18T20:23:46.139309Z"
    },
    "slideshow": {
     "slide_type": "-"
    }
   },
   "outputs": [],
   "source": [
    "labels = nx.get_edge_attributes(G, 'weight')"
   ]
  },
  {
   "cell_type": "code",
   "execution_count": null,
   "metadata": {
    "ExecuteTime": {
     "end_time": "2019-06-18T20:23:49.305632Z",
     "start_time": "2019-06-18T20:23:49.074982Z"
    },
    "slideshow": {
     "slide_type": "slide"
    }
   },
   "outputs": [],
   "source": [
    "pos = nx.spring_layout(G)\n",
    "plt.figure(figsize=DEFAULT_FIG_SIZE) \n",
    "nx.draw_networkx_nodes(G, pos, node_size=600)\n",
    "nx.draw_networkx_edges(G, pos, width=list(labels.values()))\n",
    "nx.draw_networkx_labels(G, pos);\n",
    "nx.draw_networkx_edge_labels(G, pos, font_size=20);"
   ]
  },
  {
   "cell_type": "markdown",
   "metadata": {
    "slideshow": {
     "slide_type": "slide"
    }
   },
   "source": [
    "### Accessing graph properties"
   ]
  },
  {
   "cell_type": "code",
   "execution_count": null,
   "metadata": {
    "ExecuteTime": {
     "end_time": "2019-06-18T20:23:58.437283Z",
     "start_time": "2019-06-18T20:23:58.429063Z"
    },
    "slideshow": {
     "slide_type": "-"
    }
   },
   "outputs": [],
   "source": [
    "G.nodes()"
   ]
  },
  {
   "cell_type": "code",
   "execution_count": null,
   "metadata": {
    "ExecuteTime": {
     "end_time": "2019-06-18T20:23:59.050523Z",
     "start_time": "2019-06-18T20:23:59.042922Z"
    },
    "slideshow": {
     "slide_type": "-"
    }
   },
   "outputs": [],
   "source": [
    "G.edges()"
   ]
  },
  {
   "cell_type": "markdown",
   "metadata": {
    "slideshow": {
     "slide_type": "slide"
    }
   },
   "source": [
    "## Creating a graph with the conversion functions"
   ]
  },
  {
   "cell_type": "code",
   "execution_count": null,
   "metadata": {
    "ExecuteTime": {
     "end_time": "2019-06-18T22:28:17.240671Z",
     "start_time": "2019-06-18T22:28:17.223859Z"
    },
    "slideshow": {
     "slide_type": "-"
    }
   },
   "outputs": [],
   "source": [
    "edges = pd.read_csv('data/out.moreno_innovation_innovation', sep=' ', names=['from_node', 'to_node'], skiprows=2)\n",
    "edges.head()"
   ]
  },
  {
   "cell_type": "code",
   "execution_count": null,
   "metadata": {
    "ExecuteTime": {
     "end_time": "2019-06-18T22:28:18.009145Z",
     "start_time": "2019-06-18T22:28:17.999064Z"
    },
    "slideshow": {
     "slide_type": "slide"
    }
   },
   "outputs": [],
   "source": [
    "digraph = nx.from_pandas_edgelist(edges,'from_node', 'to_node', create_using=nx.DiGraph)"
   ]
  },
  {
   "cell_type": "code",
   "execution_count": null,
   "metadata": {
    "ExecuteTime": {
     "end_time": "2019-06-18T22:28:18.902916Z",
     "start_time": "2019-06-18T22:28:18.639519Z"
    },
    "slideshow": {
     "slide_type": "slide"
    }
   },
   "outputs": [],
   "source": [
    "plt.figure(figsize=(16,9))\n",
    "plt.imshow((nx.adjacency_matrix(digraph).todense()), aspect=0.6);\n",
    "plt.tick_params(labelsize=20)"
   ]
  },
  {
   "cell_type": "code",
   "execution_count": null,
   "metadata": {
    "ExecuteTime": {
     "end_time": "2019-06-18T22:30:39.548905Z",
     "start_time": "2019-06-18T22:30:32.583537Z"
    },
    "slideshow": {
     "slide_type": "slide"
    }
   },
   "outputs": [],
   "source": [
    "plot_graph(digraph, node_size=300, width=1, arrowsize=10)"
   ]
  },
  {
   "cell_type": "markdown",
   "metadata": {
    "slideshow": {
     "slide_type": "slide"
    }
   },
   "source": [
    "## Random Graphs"
   ]
  },
  {
   "cell_type": "markdown",
   "metadata": {
    "slideshow": {
     "slide_type": "-"
    }
   },
   "source": [
    "### Erdos-Renyi networks\n",
    "Every edge has constant probabilty $p$"
   ]
  },
  {
   "cell_type": "code",
   "execution_count": null,
   "metadata": {
    "ExecuteTime": {
     "end_time": "2019-06-18T22:31:54.633820Z",
     "start_time": "2019-06-18T22:31:54.627375Z"
    },
    "slideshow": {
     "slide_type": "-"
    }
   },
   "outputs": [],
   "source": [
    "erdos_renyi = nx.random_graphs.erdos_renyi_graph(50, 0.0784)"
   ]
  },
  {
   "cell_type": "code",
   "execution_count": null,
   "metadata": {
    "ExecuteTime": {
     "end_time": "2019-06-18T22:31:55.523618Z",
     "start_time": "2019-06-18T22:31:55.178613Z"
    },
    "slideshow": {
     "slide_type": "slide"
    }
   },
   "outputs": [],
   "source": [
    "plot_graph(erdos_renyi, node_size=600)"
   ]
  },
  {
   "cell_type": "markdown",
   "metadata": {
    "slideshow": {
     "slide_type": "slide"
    }
   },
   "source": [
    "#### Effect of growing n with constant p"
   ]
  },
  {
   "cell_type": "code",
   "execution_count": null,
   "metadata": {
    "ExecuteTime": {
     "end_time": "2019-06-18T20:48:21.438466Z",
     "start_time": "2019-06-18T20:48:21.174626Z"
    },
    "slideshow": {
     "slide_type": "-"
    }
   },
   "outputs": [],
   "source": [
    "fig, axes = plt.subplots(1, 2, figsize=(20, 9))\n",
    "nx.draw_networkx(nx.random_graphs.erdos_renyi_graph(10, 0.1), with_labels=True, node_size=400, width=2, ax=axes[0])\n",
    "nx.draw_networkx(nx.random_graphs.erdos_renyi_graph(25, 0.1), with_labels=True, node_size=400, width=2, ax=axes[1])\n",
    "[[axes[j].set_xticks([]) for j in range(2)]];\n",
    "[[axes[j].set_yticks([]) for j in range(2)]];"
   ]
  },
  {
   "cell_type": "code",
   "execution_count": null,
   "metadata": {
    "ExecuteTime": {
     "end_time": "2019-06-18T20:48:23.662550Z",
     "start_time": "2019-06-18T20:48:22.828148Z"
    }
   },
   "outputs": [],
   "source": [
    "fig, axes = plt.subplots(1, 2, figsize=(20, 9))\n",
    "nx.draw_networkx(nx.random_graphs.erdos_renyi_graph(50, 0.1), with_labels=True, node_size=400, width=2, ax=axes[0])\n",
    "nx.draw_networkx(nx.random_graphs.erdos_renyi_graph(100, 0.1), with_labels=True, node_size=400, width=2, ax=axes[1])\n",
    "[[axes[j].set_xticks([]) for j in range(2)]];\n",
    "[[axes[j].set_yticks([]) for j in range(2)]];"
   ]
  },
  {
   "cell_type": "markdown",
   "metadata": {
    "slideshow": {
     "slide_type": "slide"
    }
   },
   "source": [
    "### $\\log(n)/n$ phase transition"
   ]
  },
  {
   "cell_type": "code",
   "execution_count": null,
   "metadata": {
    "ExecuteTime": {
     "end_time": "2019-06-18T20:33:23.804485Z",
     "start_time": "2019-06-18T20:33:23.795122Z"
    },
    "slideshow": {
     "slide_type": "-"
    }
   },
   "outputs": [],
   "source": [
    "p = np.log(200)/200\n",
    "p"
   ]
  },
  {
   "cell_type": "code",
   "execution_count": null,
   "metadata": {
    "ExecuteTime": {
     "end_time": "2019-06-18T20:33:46.582186Z",
     "start_time": "2019-06-18T20:33:24.378340Z"
    },
    "slideshow": {
     "slide_type": "-"
    }
   },
   "outputs": [],
   "source": [
    "# Add plot increasing edge prob multiple trials amount one component vs more than one\n",
    "probs = np.arange(0.01, 0.05001, 0.0025)\n",
    "has_one_component = [np.mean([nx.number_connected_components(nx.random_graphs.erdos_renyi_graph(200, p)) < 2 for i in range(200)]) for p in probs]"
   ]
  },
  {
   "cell_type": "code",
   "execution_count": null,
   "metadata": {
    "ExecuteTime": {
     "end_time": "2019-06-18T20:33:53.040905Z",
     "start_time": "2019-06-18T20:33:52.800905Z"
    },
    "slideshow": {
     "slide_type": "slide"
    }
   },
   "outputs": [],
   "source": [
    "plt.figure(figsize=DEFAULT_FIG_SIZE)\n",
    "plt.plot(probs, has_one_component, lw=4)\n",
    "plt.xlabel('Edge probability', fontsize=25)\n",
    "plt.ylabel('Frequency of one component', fontsize=25)\n",
    "plt.tick_params(labelsize=20)\n",
    "plt.axvline(x=p,linewidth=4, color='r')\n",
    "plt.show()"
   ]
  },
  {
   "cell_type": "markdown",
   "metadata": {
    "slideshow": {
     "slide_type": "slide"
    }
   },
   "source": [
    "### Preferential attachment  (Barabási–Albert)\n",
    "Edge probability is proportional to node degree"
   ]
  },
  {
   "cell_type": "code",
   "execution_count": null,
   "metadata": {
    "ExecuteTime": {
     "end_time": "2019-06-18T22:33:30.611460Z",
     "start_time": "2019-06-18T22:33:30.604191Z"
    },
    "slideshow": {
     "slide_type": "-"
    }
   },
   "outputs": [],
   "source": [
    "bara_albert = nx.barabasi_albert_graph(50, 2)"
   ]
  },
  {
   "cell_type": "code",
   "execution_count": null,
   "metadata": {
    "ExecuteTime": {
     "end_time": "2019-06-18T22:33:31.389608Z",
     "start_time": "2019-06-18T22:33:31.024508Z"
    },
    "slideshow": {
     "slide_type": "slide"
    }
   },
   "outputs": [],
   "source": [
    "plot_graph(bara_albert, node_size=600, node_color=bara_albert.nodes())"
   ]
  },
  {
   "cell_type": "markdown",
   "metadata": {
    "slideshow": {
     "slide_type": "slide"
    }
   },
   "source": [
    "## Graph analysis"
   ]
  },
  {
   "cell_type": "code",
   "execution_count": null,
   "metadata": {
    "ExecuteTime": {
     "end_time": "2019-06-18T22:34:07.117782Z",
     "start_time": "2019-06-18T22:34:07.097632Z"
    },
    "slideshow": {
     "slide_type": "-"
    }
   },
   "outputs": [],
   "source": [
    "positions = nx.spring_layout(bara_albert)"
   ]
  },
  {
   "cell_type": "markdown",
   "metadata": {
    "slideshow": {
     "slide_type": "slide"
    }
   },
   "source": [
    "### Edge density\n",
    "Number of edges in the graph compared to number of edges in complete graph"
   ]
  },
  {
   "cell_type": "code",
   "execution_count": null,
   "metadata": {
    "ExecuteTime": {
     "end_time": "2019-06-18T20:34:11.306180Z",
     "start_time": "2019-06-18T20:34:11.298726Z"
    },
    "slideshow": {
     "slide_type": "-"
    }
   },
   "outputs": [],
   "source": [
    "nx.density(bara_albert)"
   ]
  },
  {
   "cell_type": "code",
   "execution_count": null,
   "metadata": {
    "ExecuteTime": {
     "end_time": "2019-06-18T20:34:12.800616Z",
     "start_time": "2019-06-18T20:34:12.792824Z"
    },
    "slideshow": {
     "slide_type": "-"
    }
   },
   "outputs": [],
   "source": [
    "nx.density(erdos_renyi)"
   ]
  },
  {
   "cell_type": "markdown",
   "metadata": {
    "slideshow": {
     "slide_type": "slide"
    }
   },
   "source": [
    "### Dijkstra pathes\n",
    "Shortest path from one vertex to another vertex"
   ]
  },
  {
   "cell_type": "code",
   "execution_count": null,
   "metadata": {
    "ExecuteTime": {
     "end_time": "2019-06-18T22:35:30.543766Z",
     "start_time": "2019-06-18T22:35:30.537162Z"
    },
    "slideshow": {
     "slide_type": "-"
    }
   },
   "outputs": [],
   "source": [
    "dij_path = nx.dijkstra_path(bara_albert, source=49, target=20)"
   ]
  },
  {
   "cell_type": "code",
   "execution_count": null,
   "metadata": {
    "ExecuteTime": {
     "end_time": "2019-06-18T22:35:31.054518Z",
     "start_time": "2019-06-18T22:35:31.047585Z"
    },
    "slideshow": {
     "slide_type": "-"
    }
   },
   "outputs": [],
   "source": [
    "dij_path"
   ]
  },
  {
   "cell_type": "code",
   "execution_count": null,
   "metadata": {
    "ExecuteTime": {
     "end_time": "2019-06-18T22:35:32.599046Z",
     "start_time": "2019-06-18T22:35:32.592548Z"
    },
    "slideshow": {
     "slide_type": "-"
    }
   },
   "outputs": [],
   "source": [
    "colors = [0]*50\n",
    "for i in dij_path:\n",
    "    colors[i]=1"
   ]
  },
  {
   "cell_type": "code",
   "execution_count": null,
   "metadata": {
    "ExecuteTime": {
     "end_time": "2019-06-18T22:35:33.816651Z",
     "start_time": "2019-06-18T22:35:33.480700Z"
    },
    "slideshow": {
     "slide_type": "slide"
    }
   },
   "outputs": [],
   "source": [
    "plot_graph(bara_albert, node_size=600, node_color=colors, pos=positions)"
   ]
  },
  {
   "cell_type": "markdown",
   "metadata": {
    "slideshow": {
     "slide_type": "slide"
    }
   },
   "source": [
    "### Average shortest path length\n",
    "Average length of all shortest pathes"
   ]
  },
  {
   "cell_type": "code",
   "execution_count": null,
   "metadata": {
    "ExecuteTime": {
     "end_time": "2019-06-18T20:34:54.319075Z",
     "start_time": "2019-06-18T20:34:54.296750Z"
    },
    "slideshow": {
     "slide_type": "-"
    }
   },
   "outputs": [],
   "source": [
    "nx.average_shortest_path_length(bara_albert)"
   ]
  },
  {
   "cell_type": "code",
   "execution_count": null,
   "metadata": {
    "ExecuteTime": {
     "end_time": "2019-06-18T20:34:55.231348Z",
     "start_time": "2019-06-18T20:34:55.047799Z"
    },
    "slideshow": {
     "slide_type": "-"
    }
   },
   "outputs": [],
   "source": [
    "nx.average_shortest_path_length(erdos_renyi)"
   ]
  },
  {
   "cell_type": "markdown",
   "metadata": {
    "slideshow": {
     "slide_type": "slide"
    }
   },
   "source": [
    "### Node degree\n",
    "Number of nodes a node is connected to"
   ]
  },
  {
   "cell_type": "code",
   "execution_count": null,
   "metadata": {
    "ExecuteTime": {
     "end_time": "2019-06-18T22:38:08.372958Z",
     "start_time": "2019-06-18T22:38:08.368514Z"
    },
    "slideshow": {
     "slide_type": "-"
    }
   },
   "outputs": [],
   "source": [
    "node_degree = nx.degree_centrality(bara_albert)"
   ]
  },
  {
   "cell_type": "code",
   "execution_count": null,
   "metadata": {
    "ExecuteTime": {
     "end_time": "2019-06-18T22:38:09.404850Z",
     "start_time": "2019-06-18T22:38:09.069447Z"
    },
    "slideshow": {
     "slide_type": "slide"
    }
   },
   "outputs": [],
   "source": [
    "plot_graph(bara_albert, node_size=get_node_size(node_degree), node_color=get_node_size(node_degree), pos=positions)"
   ]
  },
  {
   "cell_type": "markdown",
   "metadata": {
    "slideshow": {
     "slide_type": "slide"
    }
   },
   "source": [
    "### Node degree histogramm"
   ]
  },
  {
   "cell_type": "code",
   "execution_count": null,
   "metadata": {
    "ExecuteTime": {
     "end_time": "2019-06-18T20:36:23.838299Z",
     "start_time": "2019-06-18T20:36:23.791921Z"
    },
    "slideshow": {
     "slide_type": "-"
    }
   },
   "outputs": [],
   "source": [
    "degrees_bara_albert = nx.degree_histogram(nx.barabasi_albert_graph(500, 2))\n",
    "degrees_erdos_renyi = nx.degree_histogram(nx.random_graphs.erdos_renyi_graph(500, 996./(250.*499.)))"
   ]
  },
  {
   "cell_type": "code",
   "execution_count": null,
   "metadata": {
    "ExecuteTime": {
     "end_time": "2019-06-18T20:36:24.703845Z",
     "start_time": "2019-06-18T20:36:24.438331Z"
    },
    "slideshow": {
     "slide_type": "slide"
    }
   },
   "outputs": [],
   "source": [
    "plt.figure(figsize=DEFAULT_FIG_SIZE)\n",
    "plt.plot(list(range(len(degrees_bara_albert))), np.array(degrees_bara_albert)/len(bara_albert.nodes), lw=4)\n",
    "plt.plot(list(range(len(degrees_erdos_renyi))), np.array(degrees_erdos_renyi)/len(erdos_renyi.nodes), lw=4)\n",
    "plt.xlabel('Degree', fontsize=25)\n",
    "plt.ylabel('Degree frequency', fontsize=25)\n",
    "plt.tick_params(labelsize=20)\n",
    "plt.legend(['Barabasi-Albert', 'Erdos-Renyi'])\n",
    "plt.show()"
   ]
  },
  {
   "cell_type": "markdown",
   "metadata": {
    "slideshow": {
     "slide_type": "slide"
    }
   },
   "source": [
    "### Closeness centrality\n",
    "Inverse average distance to all other nodes in the graph"
   ]
  },
  {
   "cell_type": "code",
   "execution_count": null,
   "metadata": {
    "ExecuteTime": {
     "end_time": "2019-06-18T17:58:45.291131Z",
     "start_time": "2019-06-18T17:58:45.278349Z"
    },
    "slideshow": {
     "slide_type": "-"
    }
   },
   "outputs": [],
   "source": [
    "closeness = nx.closeness_centrality(bara_albert)"
   ]
  },
  {
   "cell_type": "code",
   "execution_count": null,
   "metadata": {
    "ExecuteTime": {
     "end_time": "2019-06-18T17:58:45.630155Z",
     "start_time": "2019-06-18T17:58:45.292932Z"
    },
    "slideshow": {
     "slide_type": "slide"
    }
   },
   "outputs": [],
   "source": [
    "plot_graph(bara_albert, node_size=get_node_size(closeness), node_color=get_node_size(closeness), pos=positions)"
   ]
  },
  {
   "cell_type": "markdown",
   "metadata": {
    "slideshow": {
     "slide_type": "slide"
    }
   },
   "source": [
    "### Betweenness centrality\n",
    "Number of shortest pathes between two nodes the node is contained"
   ]
  },
  {
   "cell_type": "code",
   "execution_count": null,
   "metadata": {
    "ExecuteTime": {
     "end_time": "2019-06-18T22:41:07.126793Z",
     "start_time": "2019-06-18T22:41:07.106430Z"
    },
    "slideshow": {
     "slide_type": "-"
    }
   },
   "outputs": [],
   "source": [
    "betweenness = nx.betweenness_centrality(bara_albert, normalized=True, endpoints=True)"
   ]
  },
  {
   "cell_type": "code",
   "execution_count": null,
   "metadata": {
    "ExecuteTime": {
     "end_time": "2019-06-18T22:41:07.828154Z",
     "start_time": "2019-06-18T22:41:07.483043Z"
    },
    "slideshow": {
     "slide_type": "slide"
    }
   },
   "outputs": [],
   "source": [
    "plot_graph(bara_albert, node_size=get_node_size(betweenness), node_color=get_node_size(betweenness), pos=positions)"
   ]
  },
  {
   "cell_type": "markdown",
   "metadata": {
    "slideshow": {
     "slide_type": "slide"
    }
   },
   "source": [
    "### Eigenvector centrality\n",
    "- Eigenvector belonging to the largest eigenvalue of the adjacency matrix\n",
    "- Captures imortance of nodes the node is connected to"
   ]
  },
  {
   "cell_type": "code",
   "execution_count": null,
   "metadata": {
    "ExecuteTime": {
     "end_time": "2019-06-18T22:40:00.689978Z",
     "start_time": "2019-06-18T22:40:00.675711Z"
    },
    "slideshow": {
     "slide_type": "-"
    }
   },
   "outputs": [],
   "source": [
    "eigenvec_cen = nx.eigenvector_centrality_numpy(bara_albert)"
   ]
  },
  {
   "cell_type": "code",
   "execution_count": null,
   "metadata": {
    "ExecuteTime": {
     "end_time": "2019-06-18T22:40:01.352197Z",
     "start_time": "2019-06-18T22:40:01.010839Z"
    },
    "slideshow": {
     "slide_type": "slide"
    }
   },
   "outputs": [],
   "source": [
    "plot_graph(bara_albert, node_size=get_node_size(eigenvec_cen), node_color=get_node_size(eigenvec_cen), pos=positions)"
   ]
  },
  {
   "cell_type": "markdown",
   "metadata": {
    "slideshow": {
     "slide_type": "slide"
    }
   },
   "source": [
    "### Clustering\n",
    "Fraction of neighboring nodes that have a edge with each other (friends are also friends)"
   ]
  },
  {
   "cell_type": "code",
   "execution_count": null,
   "metadata": {
    "ExecuteTime": {
     "end_time": "2019-06-18T22:41:44.692586Z",
     "start_time": "2019-06-18T22:41:44.683801Z"
    },
    "slideshow": {
     "slide_type": "-"
    }
   },
   "outputs": [],
   "source": [
    "clustering = nx.clustering(bara_albert)"
   ]
  },
  {
   "cell_type": "code",
   "execution_count": null,
   "metadata": {
    "ExecuteTime": {
     "end_time": "2019-06-18T22:41:46.376536Z",
     "start_time": "2019-06-18T22:41:46.042126Z"
    },
    "slideshow": {
     "slide_type": "slide"
    }
   },
   "outputs": [],
   "source": [
    "plot_graph(bara_albert, node_size=get_node_size(clustering), node_color=get_node_size(clustering), pos=positions)"
   ]
  },
  {
   "cell_type": "markdown",
   "metadata": {
    "slideshow": {
     "slide_type": "slide"
    }
   },
   "source": [
    "### Minimum spanning tree\n",
    "Graph with the smallest amount of edge weights that connects all vertices"
   ]
  },
  {
   "cell_type": "code",
   "execution_count": null,
   "metadata": {
    "ExecuteTime": {
     "end_time": "2019-06-18T22:43:08.626311Z",
     "start_time": "2019-06-18T22:43:08.618362Z"
    },
    "slideshow": {
     "slide_type": "-"
    }
   },
   "outputs": [],
   "source": [
    "msp = nx.minimum_spanning_tree(bara_albert)"
   ]
  },
  {
   "cell_type": "code",
   "execution_count": null,
   "metadata": {
    "ExecuteTime": {
     "end_time": "2019-06-18T22:43:15.813134Z",
     "start_time": "2019-06-18T22:43:15.495671Z"
    },
    "slideshow": {
     "slide_type": "slide"
    }
   },
   "outputs": [],
   "source": [
    "plot_graph(msp, node_size=600, pos=positions)"
   ]
  },
  {
   "cell_type": "markdown",
   "metadata": {
    "slideshow": {
     "slide_type": "slide"
    }
   },
   "source": [
    "## Graph Layouting"
   ]
  },
  {
   "cell_type": "markdown",
   "metadata": {
    "slideshow": {
     "slide_type": "-"
    }
   },
   "source": [
    "### Circular layout\n",
    "Nodes are just positioned on a circle"
   ]
  },
  {
   "cell_type": "code",
   "execution_count": null,
   "metadata": {
    "ExecuteTime": {
     "end_time": "2019-06-18T22:48:14.445445Z",
     "start_time": "2019-06-18T22:48:07.440754Z"
    },
    "slideshow": {
     "slide_type": "slide"
    }
   },
   "outputs": [],
   "source": [
    "plot_graph(digraph, node_size=600, arrowsize=10, plot_fun=nx.draw_circular)"
   ]
  },
  {
   "cell_type": "code",
   "execution_count": null,
   "metadata": {
    "ExecuteTime": {
     "end_time": "2019-06-18T17:58:53.932285Z",
     "start_time": "2019-06-18T17:58:53.921409Z"
    },
    "slideshow": {
     "slide_type": "-"
    }
   },
   "outputs": [],
   "source": [
    "nx.number_connected_components(digraph.to_undirected())"
   ]
  },
  {
   "cell_type": "markdown",
   "metadata": {
    "slideshow": {
     "slide_type": "slide"
    }
   },
   "source": [
    "### Kamada Kawai layout\n",
    "Edges are of more or less equal length and there are as few crossing edges as possible"
   ]
  },
  {
   "cell_type": "code",
   "execution_count": null,
   "metadata": {
    "ExecuteTime": {
     "end_time": "2019-06-18T22:54:48.253055Z",
     "start_time": "2019-06-18T22:54:40.640802Z"
    },
    "slideshow": {
     "slide_type": "slide"
    }
   },
   "outputs": [],
   "source": [
    "plot_graph(digraph, node_size=600, arrowsize=10, plot_fun=nx.draw_kamada_kawai)"
   ]
  },
  {
   "cell_type": "markdown",
   "metadata": {
    "slideshow": {
     "slide_type": "slide"
    }
   },
   "source": [
    "### Spring layout\n",
    "Position nodes using attracting and repulsive forces"
   ]
  },
  {
   "cell_type": "code",
   "execution_count": null,
   "metadata": {
    "ExecuteTime": {
     "end_time": "2019-06-18T22:55:18.101714Z",
     "start_time": "2019-06-18T22:55:11.025296Z"
    },
    "slideshow": {
     "slide_type": "slide"
    }
   },
   "outputs": [],
   "source": [
    "plot_graph(digraph, node_size=600, arrowsize=10, plot_fun=nx.draw_spring)"
   ]
  },
  {
   "cell_type": "markdown",
   "metadata": {
    "slideshow": {
     "slide_type": "slide"
    }
   },
   "source": [
    "### Spectral layout\n",
    "Position nodes using the eigenvectors of the graph Laplacian ($ L = D - A$, where A is the adjacency matrix and D is the diagonal matrix)"
   ]
  },
  {
   "cell_type": "code",
   "execution_count": null,
   "metadata": {
    "ExecuteTime": {
     "end_time": "2019-06-18T22:50:03.781364Z",
     "start_time": "2019-06-18T22:49:59.443262Z"
    },
    "slideshow": {
     "slide_type": "slide"
    }
   },
   "outputs": [],
   "source": [
    "plot_graph(digraph, node_size=2000, plot_fun=nx.draw_spectral)"
   ]
  },
  {
   "cell_type": "markdown",
   "metadata": {
    "slideshow": {
     "slide_type": "slide"
    }
   },
   "source": [
    "### Alternative formulation (calculate layout independently)"
   ]
  },
  {
   "cell_type": "code",
   "execution_count": null,
   "metadata": {
    "ExecuteTime": {
     "end_time": "2019-06-18T22:54:04.946116Z",
     "start_time": "2019-06-18T22:53:57.442146Z"
    },
    "slideshow": {
     "slide_type": "-"
    }
   },
   "outputs": [],
   "source": [
    "pos = nx.kamada_kawai_layout(digraph)\n",
    "plot_graph(digraph, node_size=600, arrowsize=10, pos=pos)"
   ]
  },
  {
   "cell_type": "markdown",
   "metadata": {
    "slideshow": {
     "slide_type": "slide"
    }
   },
   "source": [
    "## Wrap up\n",
    "- networkX provides unified interface to work with graphs\n",
    "- Graph data can be read in from multiple formats\n",
    "- Generators for creating specific graph types or different kind of random graphs\n",
    "- Large amount of graph analysis functions\n",
    "- Basic layouting of graphs for plotting included. Can beextended by Graphviz or PyGraphviz\n",
    "- ...There is much more than we have covered..."
   ]
  },
  {
   "cell_type": "markdown",
   "metadata": {
    "ExecuteTime": {
     "end_time": "2019-06-17T22:47:23.041645Z",
     "start_time": "2019-06-17T22:47:23.034357Z"
    },
    "slideshow": {
     "slide_type": "slide"
    }
   },
   "source": [
    "<pre>\n",
    "\n",
    "\n",
    "\n",
    "</pre>\n",
    "<div><p><font size=\"20\"><center>Thank you!</center></font></p></div>\n",
    "<pre>\n",
    "\n",
    "</pre>\n",
    "<div><p><center><font size=\"5\">The content of the talk can be found here: <a href=\"https://github.com/rquadrat/network-analysis\">https://github.com/rquadrat/network-analysis</a></font></center></p></div>\n",
    "<pre>\n",
    "\n",
    "\n",
    "</pre>"
   ]
  }
 ],
 "metadata": {
  "celltoolbar": "Slideshow",
  "kernelspec": {
   "display_name": "Python 3",
   "language": "python",
   "name": "python3"
  },
  "language_info": {
   "codemirror_mode": {
    "name": "ipython",
    "version": 3
   },
   "file_extension": ".py",
   "mimetype": "text/x-python",
   "name": "python",
   "nbconvert_exporter": "python",
   "pygments_lexer": "ipython3",
   "version": "3.7.3"
  },
  "toc": {
   "base_numbering": 1,
   "nav_menu": {
    "height": "768px",
    "width": "268px"
   },
   "number_sections": true,
   "sideBar": true,
   "skip_h1_title": false,
   "title_cell": "Table of Contents",
   "title_sidebar": "Contents",
   "toc_cell": false,
   "toc_position": {},
   "toc_section_display": true,
   "toc_window_display": false
  }
 },
 "nbformat": 4,
 "nbformat_minor": 2
}
